{
 "cells": [
  {
   "cell_type": "markdown",
   "metadata": {},
   "source": [
    "# Anagram Algorithms #\n",
    "\n",
    "Anagrams are words that can be rearranged to make up each other. An example of this would be 'GOD' and 'DOG'\n",
    "\n",
    "anagram - first try. Used 2 sorted lists and compared them to each other\n",
    "\n",
    "anagram2 - extremely simple using python methods\n",
    "\n",
    "anagram2 - using dictionaries "
   ]
  },
  {
   "cell_type": "code",
   "execution_count": 2,
   "metadata": {},
   "outputs": [],
   "source": [
    "def anagram1(arg1,arg2):\n",
    "\n",
    "    fl = []\n",
    "    sl = []\n",
    "\n",
    "    # removing the blank spaces\n",
    "    for i in arg1:\n",
    "        if i == ' ':\n",
    "            pass\n",
    "        else:\n",
    "            fl.append(i)\n",
    "\n",
    "    for i in arg2:\n",
    "        if i == ' ':\n",
    "            pass\n",
    "        else:\n",
    "            sl.append(i)\n",
    "     \n",
    "    if len(fl) != len(sl):\n",
    "        return False\n",
    "\n",
    "    #sorting out the letters in alphabetical order, and changing all the cases to lower case\n",
    "    fl = sorted(fl, key=str.lower)\n",
    "    sl = sorted(sl, key=str.lower)\n",
    "\n",
    "    #\n",
    "    exit = 0\n",
    "    for i in range(len(fl)):\n",
    "\n",
    "        if fl[i] == sl[i]:\n",
    "            exit = 0\n",
    "        else:\n",
    "            exit = 1\n",
    "\n",
    "    if exit == 0:\n",
    "        return True\n",
    "    else:\n",
    "        return False"
   ]
  },
  {
   "cell_type": "code",
   "execution_count": 3,
   "metadata": {},
   "outputs": [
    {
     "data": {
      "text/plain": [
       "True"
      ]
     },
     "execution_count": 3,
     "metadata": {},
     "output_type": "execute_result"
    }
   ],
   "source": [
    "anagram1('go go go','gggooo')"
   ]
  },
  {
   "cell_type": "code",
   "execution_count": 4,
   "metadata": {},
   "outputs": [],
   "source": [
    "def anagram2(arg1,arg2):\n",
    "    arg1 = arg1.replace(' ','').lower()\n",
    "    arg2 = arg2.replace(' ','').lower()\n",
    "    \n",
    "    return sorted(arg1) == sorted(arg2)"
   ]
  },
  {
   "cell_type": "code",
   "execution_count": 5,
   "metadata": {},
   "outputs": [],
   "source": [
    "def anagram3(arg1,arg2):\n",
    "    \n",
    "    #creating the dictionary called count\n",
    "    count = {}\n",
    "    \n",
    "    arg1 = arg1.replace(' ','').lower()\n",
    "    arg2 = arg2.replace(' ','').lower()\n",
    "    \n",
    "    #adding letters and counts to this dictionary\n",
    "    for letter in arg1:\n",
    "        if letter in count:\n",
    "            count[letter] += 1\n",
    "        else:\n",
    "            count[letter] = 1\n",
    "\n",
    "    for i in arg2:\n",
    "        if i in count:\n",
    "            count[i] -= 1\n",
    "        else:\n",
    "            count[i] = 1\n",
    "      \n",
    "    for k in count:\n",
    "        if count[k] != 0:\n",
    "            return False\n",
    "        \n",
    "    return True"
   ]
  },
  {
   "cell_type": "code",
   "execution_count": 6,
   "metadata": {},
   "outputs": [
    {
     "name": "stdout",
     "output_type": "stream",
     "text": [
      "18.6 µs ± 187 ns per loop (mean ± std. dev. of 7 runs, 100000 loops each)\n",
      "10.5 µs ± 481 ns per loop (mean ± std. dev. of 7 runs, 100000 loops each)\n",
      "13.8 µs ± 1.45 µs per loop (mean ± std. dev. of 7 runs, 100000 loops each)\n"
     ]
    }
   ],
   "source": [
    "from nose.tools import assert_equal\n",
    "import time\n",
    "\n",
    "class AnagramTest(object):\n",
    "    \n",
    "    \n",
    "    def test(self,sol):\n",
    "        assert_equal(sol('go go go','gggooo'),True)\n",
    "        assert_equal(sol('abc','cba'),True)\n",
    "        assert_equal(sol('hi man','hi     man'),True)\n",
    "        assert_equal(sol('aabbcc','aabbc'),False)\n",
    "        assert_equal(sol('123','1 2'),False)\n",
    "        #print(\"ALL TEST CASES PASSED\")\n",
    "\n",
    "# Run Tests\n",
    "t = AnagramTest()\n",
    "%timeit t.test(anagram1)\n",
    "%timeit t.test(anagram2)\n",
    "%timeit t.test(anagram3)\n"
   ]
  },
  {
   "cell_type": "code",
   "execution_count": null,
   "metadata": {},
   "outputs": [],
   "source": []
  }
 ],
 "metadata": {
  "kernelspec": {
   "display_name": "Python 3",
   "language": "python",
   "name": "python3"
  },
  "language_info": {
   "codemirror_mode": {
    "name": "ipython",
    "version": 3
   },
   "file_extension": ".py",
   "mimetype": "text/x-python",
   "name": "python",
   "nbconvert_exporter": "python",
   "pygments_lexer": "ipython3",
   "version": "3.6.7"
  }
 },
 "nbformat": 4,
 "nbformat_minor": 2
}
