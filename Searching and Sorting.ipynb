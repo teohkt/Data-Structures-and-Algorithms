{
 "cells": [
  {
   "cell_type": "markdown",
   "metadata": {},
   "source": [
    "# Searching and Sorting\n",
    "\n",
    "## 1. Sequential\n",
    "## 2. Binary Search\n",
    "## 3. Hashing\n",
    "## 4. Sorting"
   ]
  },
  {
   "cell_type": "markdown",
   "metadata": {},
   "source": [
    "## Sequential"
   ]
  },
  {
   "cell_type": "code",
   "execution_count": 48,
   "metadata": {},
   "outputs": [],
   "source": [
    "arr = [10,7,2,8,1,5]\n",
    "arr_s = [1,2,5,8,7,10]"
   ]
  },
  {
   "cell_type": "code",
   "execution_count": 1,
   "metadata": {},
   "outputs": [],
   "source": [
    "#Non-Sequential Search\n",
    "def seq_search(arr,ele):\n",
    "    \n",
    "    pos = 0\n",
    "    found = False\n",
    "    \n",
    "    while pos < len(arr) and not found:\n",
    "        \n",
    "        if arr[pos] == ele:\n",
    "            found = True\n",
    "            \n",
    "        else:\n",
    "            pos += 1\n",
    "    \n",
    "    return found"
   ]
  },
  {
   "cell_type": "code",
   "execution_count": 6,
   "metadata": {},
   "outputs": [
    {
     "data": {
      "text/plain": [
       "False"
      ]
     },
     "execution_count": 6,
     "metadata": {},
     "output_type": "execute_result"
    }
   ],
   "source": [
    "seq_search(arr,6)"
   ]
  },
  {
   "cell_type": "code",
   "execution_count": 23,
   "metadata": {},
   "outputs": [],
   "source": [
    "#Sequential Search\n",
    "def ord_seq_search(arr,ele):\n",
    "    \n",
    "    #sorts the arr in sequential order\n",
    "    arr = sorted(arr)\n",
    "    \n",
    "    pos = 0\n",
    "    found = False\n",
    "    stopped = False\n",
    "    \n",
    "    while pos < len(arr) and not found and not stopped:\n",
    "        \n",
    "        if arr[pos] == ele:\n",
    "            found = True\n",
    "\n",
    "        else:\n",
    "            #Notice that the following if statement is after the\n",
    "            #else statement. This should help with speed after the ele is\n",
    "            #found since it will not have to run this statement!\n",
    "            if arr[pos] > ele:\n",
    "                stopped = True\n",
    "            pos += 1\n",
    "    \n",
    "    return found"
   ]
  },
  {
   "cell_type": "code",
   "execution_count": 24,
   "metadata": {},
   "outputs": [
    {
     "data": {
      "text/plain": [
       "True"
      ]
     },
     "execution_count": 24,
     "metadata": {},
     "output_type": "execute_result"
    }
   ],
   "source": [
    "ord_seq_search(arr,10)"
   ]
  },
  {
   "cell_type": "markdown",
   "metadata": {},
   "source": [
    "## 2. Binary Search"
   ]
  },
  {
   "cell_type": "code",
   "execution_count": 75,
   "metadata": {},
   "outputs": [],
   "source": [
    "#Iteritive Method\n",
    "def binary_search_iter(arr, ele):\n",
    "    \n",
    "    first = 0\n",
    "    last = len(arr)-1\n",
    "\n",
    "    while first <= last:\n",
    "        \n",
    "        mid = (first+last)//2\n",
    "        \n",
    "        if arr[mid] == ele:\n",
    "            return True\n",
    "            \n",
    "        else:\n",
    "            if ele < arr[mid]:\n",
    "                last = mid - 1\n",
    "                \n",
    "            else:\n",
    "                first = mid + 1\n",
    "    return False"
   ]
  },
  {
   "cell_type": "code",
   "execution_count": 77,
   "metadata": {},
   "outputs": [
    {
     "data": {
      "text/plain": [
       "True"
      ]
     },
     "execution_count": 77,
     "metadata": {},
     "output_type": "execute_result"
    }
   ],
   "source": [
    "binary_search_iter(arr,10)"
   ]
  },
  {
   "cell_type": "code",
   "execution_count": 93,
   "metadata": {},
   "outputs": [],
   "source": [
    "#Recursive Method\n",
    "arr = sorted(arr)\n",
    "def binary_search_rec(arr,ele):\n",
    "    scope = len(arr)//2\n",
    "    \n",
    "    #Base Case\n",
    "    if len(arr) == 0:\n",
    "        return False\n",
    "\n",
    "    if arr[scope]==ele:\n",
    "        return True\n",
    "    \n",
    "    else:\n",
    "        \n",
    "        if ele < arr[scope]:\n",
    "            return binary_search_rec(arr[:scope],ele)\n",
    "\n",
    "        else:\n",
    "            return binary_search_rec(arr[scope+1:],ele)\n",
    "\n",
    "    return False"
   ]
  },
  {
   "cell_type": "code",
   "execution_count": 94,
   "metadata": {},
   "outputs": [
    {
     "data": {
      "text/plain": [
       "True"
      ]
     },
     "execution_count": 94,
     "metadata": {},
     "output_type": "execute_result"
    }
   ],
   "source": [
    "binary_search_rec(arr, 10)"
   ]
  },
  {
   "cell_type": "markdown",
   "metadata": {},
   "source": [
    "## 3. Hashing\n",
    "\n",
    "### Hash Function\n"
   ]
  },
  {
   "cell_type": "markdown",
   "metadata": {},
   "source": [
    "#### Remainder Method\n",
    "When presented with an item, the hash fucntion is the item divided by the table size (specifically n%x where n is the item number, x is an arbitrary integer to get the remainder), this is then its slot number\n",
    "\n",
    "This method falls pertinent to collisions (also known as clash)"
   ]
  },
  {
   "cell_type": "code",
   "execution_count": 102,
   "metadata": {},
   "outputs": [
    {
     "data": {
      "text/plain": [
       "[10, 4, 5, 6, 0, 9]"
      ]
     },
     "execution_count": 102,
     "metadata": {},
     "output_type": "execute_result"
    }
   ],
   "source": [
    "n=[54,26,93,17,77,31]\n",
    "x = 11\n",
    "\n",
    "hash_value = [val%x for val in n]\n",
    "hash_value\n"
   ]
  },
  {
   "cell_type": "markdown",
   "metadata": {},
   "source": [
    "n = number of items\n",
    "x = table size.\n",
    "load factor = λ = number of items/table size\n",
    "\n",
    "In the above example, λ = 6/11\n",
    "\n",
    "Our new hash table now looks like\n",
    "\n",
    "[77,None,None,None,26,93,17,None,None,31,54]\n"
   ]
  },
  {
   "cell_type": "markdown",
   "metadata": {},
   "source": [
    "#### Collision Resolution\n",
    "When two numbers end up with the same hash value (ie. 55%11 and 44%11 both return 0), we can rehash. \n",
    "\n",
    "##### Rehashing\n",
    "Rehash is the process of looking for another slot after a collision is rehashing.\n",
    "\n",
    "Linear Probing is a method of rehashing where the next available slot is taken up. In the previous example, if both 77 and 44 are in the items, 44 will take slot 1. The problem with this is clustering all the values at the beginning.\n",
    "\n",
    "Clustering is a problem because it reduces performance the faster the cluster grows.\n",
    "\n",
    "Quadratic Probing is a method of rehashing where a rehash function is used so that the hash values are selected on incremental values (1,3,5,7,9 and so on...x, x+1,x+4,x+9,x+17...)\n",
    "\n",
    "##### Chaining\n",
    "Chaining is another method of handling collisions. This allows many items to exist at the same location in the hash table\n"
   ]
  },
  {
   "cell_type": "markdown",
   "metadata": {},
   "source": [
    "#### Folding Method\n",
    "Divide the item into equal sized pieces (the last piece may not be equal in size). The pieces are then added togther to give the resulting hash value\n",
    "\n",
    "item = 436-555-4601\n",
    "\n",
    "divide by 2 = 43,65,55,46,01 #you can divide by anything\n",
    "\n",
    "sum = 210\n",
    "\n",
    "slots = 11\n",
    "\n",
    "hash_value = 210%11 = 1\n"
   ]
  },
  {
   "cell_type": "markdown",
   "metadata": {},
   "source": [
    "#### Mid Square Method\n",
    "Square the number, then take the middle digits and divide by the slot number\n",
    "\n",
    "item = 44\n",
    "\n",
    "squared = 1936\n",
    "\n",
    "middle digits = 93\n",
    "\n",
    "slots = 11\n",
    "\n",
    "hash_value = 93%11 = 5"
   ]
  },
  {
   "cell_type": "markdown",
   "metadata": {},
   "source": [
    "#### Non-Integer Elements\n",
    "ord('string') will give you a value\n",
    "\n",
    "ie. ord('c') = 99"
   ]
  },
  {
   "cell_type": "markdown",
   "metadata": {},
   "source": [
    "### Implementing a Hash Table\n",
    "In python, there is a dictionary method to do this for us. For learning purposes, we will implement our own hash table. This hash table will update key values instead of creating multiple values for 1 key.\n",
    "\n",
    "#### Map\n",
    "HashTable(): Create a new, empty map. It returns an empty map collection\n",
    "\n",
    "put(key,val): Add a new key-value pair to the map. If the key is already in teh map, then replace the old value with the new value.\n",
    "\n",
    "get(key): Given a key, return the value stored i nteh map or None otherwise\n",
    "\n",
    "del: delete the key-value pair from the map using a statement of the form del map[key]\n",
    "\n",
    "len(): Return the number of key-value pairs stored\n"
   ]
  },
  {
   "cell_type": "code",
   "execution_count": 48,
   "metadata": {},
   "outputs": [],
   "source": [
    "class HashTable(object):\n",
    "    \n",
    "    def __init__(self,size):\n",
    "        self.size = size\n",
    "        self.slots = [None]*self.size\n",
    "        self.data = [None]*self.size\n",
    "       \n",
    "    def put(self,key,data):\n",
    "        \n",
    "        hashvalue = self.hashfunction(key,len(self.slots)) # can you use size for this\n",
    "        \n",
    "        if self.slots[hashvalue] == None:\n",
    "            self.slots[hashvalue] = key\n",
    "            self.data[hashvalue] = data\n",
    "        \n",
    "        #If there is already a value there, we are goign to get a collision\n",
    "        #so we need to rehash...find the next possible slot\n",
    "        \n",
    "        else:\n",
    "            if self.slots[hashvalue] == key:\n",
    "                self.data[hashvalue] = data\n",
    "                \n",
    "            else:\n",
    "                nextslot = self.rehash(hashvalue,len(self.slots))\n",
    "                \n",
    "                #get the next slot\n",
    "                while self.slots[nextslot] != None and self.slots[nextslot] != key:\n",
    "                    nextslot = self.rehash(nextslot,len(self.slots))\n",
    "                if self.slots[nextslot] == None:\n",
    "                    self.slots[nextslot] = key\n",
    "                    self.data[nextslot] = data\n",
    "                    \n",
    "                else: \n",
    "                    self.data[nextslot] = data\n",
    "    \n",
    "    \n",
    "    #The actual hash function    \n",
    "    def hashfunction(self,key,size):\n",
    "\n",
    "        return key%size\n",
    "    \n",
    "    def rehash(self,oldhash,size):\n",
    "        return(oldhash+1)%size\n",
    "    \n",
    "    def get(self,key):\n",
    "        startslot = self.hashfunction(key,len(self.slots))\n",
    "        data = None\n",
    "        stop = False\n",
    "        found = False\n",
    "        position = startslot\n",
    "        \n",
    "        while self.slots[position] != None and not found and not stop:\n",
    "            \n",
    "            if self.slots[position] == key:\n",
    "                found = True\n",
    "                data = self.data[position]\n",
    "                \n",
    "            else:\n",
    "                position = self.rehash(position, len(self.slots))\n",
    "                \n",
    "                if position == startslot: \n",
    "                    stop = True\n",
    "                    \n",
    "        return data\n",
    "    \n",
    "    '''\n",
    "    Helps with indexing. Python usually internally calls these while doing a[i]. Since it is not built into the class,\n",
    "    we include it. It allows for the simplification of inputting the data. We still need def put because it is called\n",
    "    in the indexing functions\n",
    "    \n",
    "    we could say \n",
    "    \n",
    "    h = HashTable(5)\n",
    "    h.put(5,'FIVE')\n",
    "    \n",
    "    or\n",
    "    \n",
    "    h[5] = 'five'\n",
    "    \n",
    "    '''\n",
    "    \n",
    "        \n",
    "    def __setitem__(self,key,data):\n",
    "        self.put(key,data)\n",
    "    \n",
    "    '''\n",
    "    Helps with indexing and returning a value.\n",
    "    \n",
    "    h.get(2)\n",
    "    \n",
    "    vs\n",
    "    \n",
    "    h[2]\n",
    "\n",
    "    '''\n",
    "\n",
    "    def __getitem__(self,key):\n",
    "        return self.get(key)"
   ]
  },
  {
   "cell_type": "code",
   "execution_count": 49,
   "metadata": {},
   "outputs": [],
   "source": [
    "h = HashTable(5)"
   ]
  },
  {
   "cell_type": "code",
   "execution_count": 50,
   "metadata": {},
   "outputs": [],
   "source": [
    "#Required without __setitem__\n",
    "h.put(5,'FIVE')"
   ]
  },
  {
   "cell_type": "code",
   "execution_count": 51,
   "metadata": {},
   "outputs": [
    {
     "data": {
      "text/plain": [
       "'FIVE'"
      ]
     },
     "execution_count": 51,
     "metadata": {},
     "output_type": "execute_result"
    }
   ],
   "source": [
    "#Required without __getitem__\n",
    "h.get(5)"
   ]
  },
  {
   "cell_type": "code",
   "execution_count": 52,
   "metadata": {},
   "outputs": [],
   "source": [
    "#Possible with __setitem__\n",
    "h[2] = 'two'"
   ]
  },
  {
   "cell_type": "code",
   "execution_count": 53,
   "metadata": {},
   "outputs": [
    {
     "data": {
      "text/plain": [
       "'two'"
      ]
     },
     "execution_count": 53,
     "metadata": {},
     "output_type": "execute_result"
    }
   ],
   "source": [
    "h[2]"
   ]
  },
  {
   "cell_type": "code",
   "execution_count": 54,
   "metadata": {},
   "outputs": [],
   "source": [
    "h[2]=\"new number\""
   ]
  },
  {
   "cell_type": "code",
   "execution_count": 55,
   "metadata": {},
   "outputs": [
    {
     "data": {
      "text/plain": [
       "'new number'"
      ]
     },
     "execution_count": 55,
     "metadata": {},
     "output_type": "execute_result"
    }
   ],
   "source": [
    "h.get(2)"
   ]
  },
  {
   "cell_type": "code",
   "execution_count": 56,
   "metadata": {},
   "outputs": [],
   "source": [
    "h.put(2,'two')"
   ]
  },
  {
   "cell_type": "code",
   "execution_count": 42,
   "metadata": {},
   "outputs": [
    {
     "data": {
      "text/plain": [
       "'two'"
      ]
     },
     "execution_count": 42,
     "metadata": {},
     "output_type": "execute_result"
    }
   ],
   "source": [
    "h.get(2)"
   ]
  },
  {
   "cell_type": "code",
   "execution_count": 43,
   "metadata": {},
   "outputs": [
    {
     "data": {
      "text/plain": [
       "'two'"
      ]
     },
     "execution_count": 43,
     "metadata": {},
     "output_type": "execute_result"
    }
   ],
   "source": [
    "h[2]"
   ]
  },
  {
   "cell_type": "markdown",
   "metadata": {},
   "source": [
    "## 4. Sorting Algorithm\n",
    "### a. Bubble Sort\n",
    "### b. Selection Sort\n",
    "### c. Insertion Sort\n",
    "### d. Shell Sort\n",
    "### e. Merge Sort\n",
    "### f. QuickSort"
   ]
  },
  {
   "cell_type": "markdown",
   "metadata": {},
   "source": [
    "### Bubble Sort Implementation\n",
    "The largest value ends up at the end on the first pass, so you dont need to go all the way to the end every pass, hence the range of sort decreasing by 1 every time. Done in O(n)time"
   ]
  },
  {
   "cell_type": "code",
   "execution_count": 72,
   "metadata": {},
   "outputs": [],
   "source": [
    "def bubble_sort(arr):\n",
    "    \n",
    "    listed = arr\n",
    "    #This generates numbers starting from n-1 going backwards to 0 in 1 increment\n",
    "    for n in range(len(arr)-1,0,-1):\n",
    "        #print('Value of n: ',n)\n",
    "        \n",
    "        for k in range(n):\n",
    "            #print('Value of k: ',k)\n",
    "            \n",
    "            #If the values flipped, swap them\n",
    "            if listed[k] > listed[k+1]:\n",
    "                listed[k],listed[k+1] = listed[k+1],listed[k]\n",
    "                \n",
    "    return listed"
   ]
  },
  {
   "cell_type": "code",
   "execution_count": 117,
   "metadata": {},
   "outputs": [],
   "source": [
    "arr = [5,3,7,2,1,4,10,6]"
   ]
  },
  {
   "cell_type": "code",
   "execution_count": 88,
   "metadata": {},
   "outputs": [
    {
     "data": {
      "text/plain": [
       "[1, 2, 3, 4, 5, 6, 7, 10]"
      ]
     },
     "execution_count": 88,
     "metadata": {},
     "output_type": "execute_result"
    }
   ],
   "source": [
    "bubble_sort(arr)"
   ]
  },
  {
   "cell_type": "code",
   "execution_count": 89,
   "metadata": {},
   "outputs": [
    {
     "data": {
      "text/plain": [
       "[1, 2, 3, 4, 5, 6, 7, 10]"
      ]
     },
     "execution_count": 89,
     "metadata": {},
     "output_type": "execute_result"
    }
   ],
   "source": [
    "arr"
   ]
  },
  {
   "cell_type": "markdown",
   "metadata": {},
   "source": [
    "### Selection Sort\n",
    "Improves on the bubble sort by finding the largest item and places it in the correct spot. After the second pass, the next largest is put in place. This requires n-1 passes. but has a O(n^2) run time\n",
    "\n",
    "The following selection sort does minimum sorted first, and works its way up"
   ]
  },
  {
   "cell_type": "code",
   "execution_count": 161,
   "metadata": {},
   "outputs": [],
   "source": [
    "def selection_sort(arr):\n",
    "    \n",
    "    listed = arr\n",
    "\n",
    "    length = len(listed)\n",
    "    \n",
    "    for n in range(length):\n",
    "        minim = listed[n]\n",
    "        \n",
    "        #Can do length-1 because the last iteration will just be itself = itself\n",
    "        for k in range(n,length-1):\n",
    "                \n",
    "            if  minim > listed[k]:\n",
    "                spot = k\n",
    "                minim = listed[k]\n",
    "        \n",
    "        #Swap the values\n",
    "        listed[n],listed[spot] = listed[spot],listed[n]\n",
    "        #print(listed[spot],listed[n])\n",
    "    \n",
    "    return listed\n",
    "\n",
    "#arr = [5,3,7,2,1,4,10,6]"
   ]
  },
  {
   "cell_type": "code",
   "execution_count": 162,
   "metadata": {},
   "outputs": [
    {
     "data": {
      "text/plain": [
       "[1, 2, 3, 4, 7, 6, 5, 10]"
      ]
     },
     "execution_count": 162,
     "metadata": {},
     "output_type": "execute_result"
    }
   ],
   "source": [
    "arr = [5,3,7,2,1,4,10,6]\n",
    "selection_sort(arr)"
   ]
  },
  {
   "cell_type": "markdown",
   "metadata": {},
   "source": [
    "### Insertion Sort\n",
    "Create a new list with one item at position 0 in it. Then on e ach pass, one for each item 1 through n-1 of the given list is checked against those already in the sorted sublist. If the value is greater, it goes on the right, if smaller, it goes on the left\n",
    "\n",
    "#### Benefits\n",
    "Simple <br/>\n",
    "Efficient for small data sets, O(n^2) <br/>\n",
    "Stable <br/>\n",
    "Small memory space at O(1) <br/>\n",
    "Online: can sort as it recieves"
   ]
  },
  {
   "cell_type": "code",
   "execution_count": 331,
   "metadata": {},
   "outputs": [],
   "source": [
    "#This creates a new list so the origional is unaffected\n",
    "def insertion_sort(arr):\n",
    "    \n",
    "    listed = [arr[0]]\n",
    "    \n",
    "    for i in range(1,len(arr)):\n",
    "        \n",
    "        if arr[i] >= listed[-1]:\n",
    "            listed.append(arr[i])\n",
    "                    \n",
    "        if arr[i] < listed[0]:\n",
    "            listed.insert(0,arr[i])\n",
    "        \n",
    "        else:\n",
    "            for k in range(len(listed)):                           \n",
    "                if arr[i] > listed[k-1]:\n",
    "                    if arr[i] < listed[k]:\n",
    "                        listed.insert(k-1,arr[i])\n",
    "                        break\n",
    "    \n",
    "    return listed\n",
    "                    "
   ]
  },
  {
   "cell_type": "code",
   "execution_count": 332,
   "metadata": {},
   "outputs": [
    {
     "data": {
      "text/plain": [
       "[1, 2, 4, 3, 6, 5, 7, 10]"
      ]
     },
     "execution_count": 332,
     "metadata": {},
     "output_type": "execute_result"
    }
   ],
   "source": [
    "arr = [5,3,7,2,1,4,10,6]\n",
    "insertion_sort(arr)"
   ]
  },
  {
   "cell_type": "code",
   "execution_count": 330,
   "metadata": {},
   "outputs": [],
   "source": [
    "#This modifies the given list. This is how the real method works.\n",
    "def insertion_sort2(arr):\n",
    "    for i in range(1,len(arr)):\n",
    "        \n",
    "        currentvalue = arr[i]\n",
    "        position = i\n",
    "        \n",
    "        #We do while position > 0 for the first item. The next part figures out if \n",
    "        #the currentvalue belongs earlier in the new list or not\n",
    "        while position > 0 and arr[position-1] > currentvalue:\n",
    "            \n",
    "            arr[position] = arr[position-1]\n",
    "            position = position-1\n",
    "            \n",
    "        arr[position] = currentvalue\n",
    "    \n",
    "    return arr"
   ]
  },
  {
   "cell_type": "code",
   "execution_count": 329,
   "metadata": {},
   "outputs": [
    {
     "data": {
      "text/plain": [
       "[1, 2, 3, 4, 5, 6, 7, 10]"
      ]
     },
     "execution_count": 329,
     "metadata": {},
     "output_type": "execute_result"
    }
   ],
   "source": [
    "arr1 = [5,3,7,2,1,4,10,6]\n",
    "insertion_sort2(arr1)"
   ]
  },
  {
   "cell_type": "markdown",
   "metadata": {},
   "source": [
    "### Shell Sort\n",
    "Instead of breaking the list into sublists of contiguous items, the shell sort uses an increment \"i\" to create a sublist by choosing all items taht are \"i\" items apart"
   ]
  },
  {
   "cell_type": "code",
   "execution_count": 348,
   "metadata": {},
   "outputs": [],
   "source": [
    "def shell_sort(arr):\n",
    "    sublistcount = len(arr)//2\n",
    "    \n",
    "    while sublistcount>0:\n",
    "        print('Sublist: ',sublistcount)\n",
    "        for start in range(sublistcount):\n",
    "            gap_insertion_sort(arr,start,sublistcount)\n",
    "            \n",
    "        sublistcount = sublistcount//2\n",
    "        \n",
    "        \n",
    "def gap_insertion_sort(arr,start,gap):\n",
    "    for i in range(start+gap, len(arr),gap):\n",
    "        currentvalue = arr[i] \n",
    "        position = i\n",
    "        \n",
    "        while position >= gap and arr[position-gap] > currentvalue:\n",
    "            \n",
    "            arr[position] = arr[position-gap]\n",
    "            position = position - gap\n",
    "            \n",
    "        arr[position] = currentvalue"
   ]
  },
  {
   "cell_type": "code",
   "execution_count": 349,
   "metadata": {},
   "outputs": [
    {
     "name": "stdout",
     "output_type": "stream",
     "text": [
      "Sublist:  4\n",
      "0 4 1 4\n",
      "1 5 4 5\n",
      "2 6 10 6\n",
      "3 7 6 7\n",
      "Sublist:  2\n",
      "0 2 7 2\n",
      "0 4 5 4\n",
      "0 6 10 6\n",
      "1 3 2 3\n",
      "1 5 4 5\n",
      "1 7 6 7\n",
      "Sublist:  1\n",
      "0 1 2 1\n",
      "0 2 5 2\n",
      "0 3 3 3\n",
      "0 4 7 4\n",
      "0 5 4 5\n",
      "0 6 10 6\n",
      "0 7 6 7\n"
     ]
    },
    {
     "data": {
      "text/plain": [
       "[1, 2, 3, 4, 5, 6, 7, 10]"
      ]
     },
     "execution_count": 349,
     "metadata": {},
     "output_type": "execute_result"
    }
   ],
   "source": [
    "arr1 = [5,3,7,2,1,4,10,6]\n",
    "shell_sort(arr1)\n",
    "arr1"
   ]
  },
  {
   "cell_type": "markdown",
   "metadata": {},
   "source": [
    "### Merge Sort\n",
    "Recursive algorithm that continually splits a list in half. If the list is empty or has one item, its is sorted by definition (the base case). If the list has more than oneitem, we split the list and recursively invoke a merge sort on both halves\n",
    "\n",
    "We need 3 while loops because the first one will select the smallest value and append it, the next 2 while loop catches the other option and appends that next."
   ]
  },
  {
   "cell_type": "code",
   "execution_count": 386,
   "metadata": {},
   "outputs": [],
   "source": [
    "def merge_sort(arr):\n",
    "    \n",
    "    if len(arr) > 1:\n",
    "        \n",
    "        mid = len(arr)//2\n",
    "        lefthalf = arr[:mid]\n",
    "        righthalf = arr[mid:]\n",
    "        \n",
    "        merge_sort(lefthalf)\n",
    "        merge_sort(righthalf)\n",
    "        \n",
    "        i = 0 #Left half\n",
    "        j = 0 #Right half\n",
    "        k = 0 #Final array\n",
    "        \n",
    "        while i < len(lefthalf) and j < len(righthalf):\n",
    "            \n",
    "            if lefthalf[i] < righthalf[j]:\n",
    "                arr[k] = lefthalf[i]\n",
    "                i += 1\n",
    "                print('first: ', arr[k], i)\n",
    "                \n",
    "            else:\n",
    "                arr[k] = righthalf[j]\n",
    "                j += 1\n",
    "                print('second: ', arr[k], j) \n",
    "            k += 1\n",
    "            \n",
    "        while i < len(lefthalf):\n",
    "            arr[k] = lefthalf[i]\n",
    "            print('third: ', arr[k], i)\n",
    "            i += 1\n",
    "            k += 1\n",
    "            \n",
    "            \n",
    "        while j<len(righthalf):\n",
    "            arr[k] = righthalf[j]\n",
    "            print('fourth: ', arr[k],j)\n",
    "            j += 1\n",
    "            k += 1\n",
    "        \n",
    "        print('Merging: ',arr)\n",
    "            \n",
    "    return arr"
   ]
  },
  {
   "cell_type": "code",
   "execution_count": 387,
   "metadata": {},
   "outputs": [
    {
     "name": "stdout",
     "output_type": "stream",
     "text": [
      "second:  3 1\n",
      "third:  5 0\n",
      "Merging:  [3, 5]\n",
      "second:  2 1\n",
      "third:  7 0\n",
      "Merging:  [2, 7]\n",
      "second:  2 1\n",
      "first:  3 1\n",
      "first:  5 2\n",
      "fourth:  7 1\n",
      "Merging:  [2, 3, 5, 7]\n",
      "first:  1 1\n",
      "fourth:  4 0\n",
      "Merging:  [1, 4]\n",
      "second:  6 1\n",
      "third:  10 0\n",
      "Merging:  [6, 10]\n",
      "first:  1 1\n",
      "first:  4 2\n",
      "fourth:  6 0\n",
      "fourth:  10 1\n",
      "Merging:  [1, 4, 6, 10]\n",
      "second:  1 1\n",
      "first:  2 1\n",
      "first:  3 2\n",
      "second:  4 2\n",
      "first:  5 3\n",
      "second:  6 3\n",
      "first:  7 4\n",
      "fourth:  10 3\n",
      "Merging:  [1, 2, 3, 4, 5, 6, 7, 10]\n"
     ]
    },
    {
     "data": {
      "text/plain": [
       "[1, 2, 3, 4, 5, 6, 7, 10]"
      ]
     },
     "execution_count": 387,
     "metadata": {},
     "output_type": "execute_result"
    }
   ],
   "source": [
    "arr1 = [5,3,7,2,1,4,10,6]\n",
    "merge_sort(arr1)"
   ]
  },
  {
   "cell_type": "markdown",
   "metadata": {},
   "source": [
    "### Quick Sort\n",
    "Uses the divide and conquer strategy like mergesort, but does not divide the list in half, which may lead to complications and decreased performance\n",
    "\n",
    "First is to select a value called pivot value. The role of this pivot value is to assist with splitting the list. The actual position where the pivot value belongs to in the final sorted list is called the split point."
   ]
  },
  {
   "cell_type": "code",
   "execution_count": 391,
   "metadata": {},
   "outputs": [],
   "source": [
    "def quick_sort(arr):\n",
    "    \n",
    "    quick_sort_help(arr,0,len(arr)-1)\n",
    "    \n",
    "    return arr\n",
    "\n",
    "def quick_sort_help(arr,first,last):\n",
    "    \n",
    "    if first < last:\n",
    "        \n",
    "        splitpoint = partition(arr,first,last)\n",
    "        \n",
    "        quick_sort_help(arr, first, splitpoint-1)\n",
    "        quick_sort_help(arr, splitpoint+1, last)\n",
    "\n",
    "def partition(arr,first,last):\n",
    "    \n",
    "    pivotvalue = arr[first]\n",
    "    \n",
    "    leftmark = first+1\n",
    "    rightmark = last\n",
    "    \n",
    "    done = False\n",
    "    \n",
    "    while not done:\n",
    "        \n",
    "        while leftmark <= rightmark and arr[leftmark] <= pivotvalue:\n",
    "            \n",
    "            leftmark += 1\n",
    "            \n",
    "        while arr[rightmark] >= pivotvalue and rightmark >= leftmark:\n",
    "            rightmark -= 1\n",
    "            \n",
    "        if rightmark < leftmark:\n",
    "            done = True\n",
    "            \n",
    "        else:\n",
    "            temp = arr[leftmark]\n",
    "            arr[leftmark] = arr[rightmark]\n",
    "            arr[rightmark] = temp\n",
    "            \n",
    "    temp = arr[first]\n",
    "    arr[first] = arr[rightmark]\n",
    "    arr[rightmark] = temp\n",
    "    \n",
    "    return rightmark"
   ]
  },
  {
   "cell_type": "code",
   "execution_count": 392,
   "metadata": {},
   "outputs": [
    {
     "data": {
      "text/plain": [
       "[1, 2, 3, 4, 5, 6, 7, 10]"
      ]
     },
     "execution_count": 392,
     "metadata": {},
     "output_type": "execute_result"
    }
   ],
   "source": [
    "arr1 = [5,3,7,2,1,4,10,6]\n",
    "quick_sort(arr1)"
   ]
  },
  {
   "cell_type": "code",
   "execution_count": null,
   "metadata": {},
   "outputs": [],
   "source": []
  },
  {
   "cell_type": "code",
   "execution_count": null,
   "metadata": {},
   "outputs": [],
   "source": []
  },
  {
   "cell_type": "markdown",
   "metadata": {},
   "source": []
  },
  {
   "cell_type": "code",
   "execution_count": null,
   "metadata": {},
   "outputs": [],
   "source": []
  },
  {
   "cell_type": "code",
   "execution_count": null,
   "metadata": {},
   "outputs": [],
   "source": []
  }
 ],
 "metadata": {
  "kernelspec": {
   "display_name": "Python 3",
   "language": "python",
   "name": "python3"
  },
  "language_info": {
   "codemirror_mode": {
    "name": "ipython",
    "version": 3
   },
   "file_extension": ".py",
   "mimetype": "text/x-python",
   "name": "python",
   "nbconvert_exporter": "python",
   "pygments_lexer": "ipython3",
   "version": "3.6.5"
  }
 },
 "nbformat": 4,
 "nbformat_minor": 2
}
