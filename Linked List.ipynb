{
 "cells": [
  {
   "cell_type": "markdown",
   "metadata": {},
   "source": [
    "# Linked List #\n",
    "\n",
    "Linked list is where nodes refer to an element as well as the next sequential node. \n",
    "\n",
    "### Pros in relation to Arrays ###\n",
    "1. Insertion and Deletion is constant time, wheras Arrays are O(n).\n",
    "2. Linked list can expand without having to specify/ expand the size\n",
    "\n",
    "### Cons in relation to Arrays ###\n",
    "1. Finding the nth element in a linked list, is is O(n) wheras it is faster in arrays at constant time."
   ]
  },
  {
   "cell_type": "markdown",
   "metadata": {},
   "source": [
    "# Singly Linked List #\n",
    "\n",
    "Can only go foreward along a list of nodes"
   ]
  },
  {
   "cell_type": "code",
   "execution_count": 96,
   "metadata": {},
   "outputs": [],
   "source": [
    "class Node(object):\n",
    "    \n",
    "    def __init__(self,value):\n",
    "        \n",
    "        self.value = value\n",
    "        self.nextnode = None"
   ]
  },
  {
   "cell_type": "code",
   "execution_count": 97,
   "metadata": {},
   "outputs": [],
   "source": [
    "a = Node(1)\n",
    "b = Node(2)\n",
    "c = Node(3)"
   ]
  },
  {
   "cell_type": "code",
   "execution_count": 98,
   "metadata": {},
   "outputs": [],
   "source": [
    "a.nextnode = b"
   ]
  },
  {
   "cell_type": "code",
   "execution_count": 99,
   "metadata": {},
   "outputs": [],
   "source": [
    "b.nextnode = c"
   ]
  },
  {
   "cell_type": "code",
   "execution_count": 100,
   "metadata": {
    "scrolled": true
   },
   "outputs": [
    {
     "data": {
      "text/plain": [
       "2"
      ]
     },
     "execution_count": 100,
     "metadata": {},
     "output_type": "execute_result"
    }
   ],
   "source": [
    "a.nextnode.value"
   ]
  },
  {
   "cell_type": "markdown",
   "metadata": {},
   "source": [
    "# Doubly Linked List #\n",
    "\n",
    "Can go forward and backward along nodes"
   ]
  },
  {
   "cell_type": "code",
   "execution_count": 101,
   "metadata": {},
   "outputs": [],
   "source": [
    "class DoublyLinkedListNode(object):\n",
    "    \n",
    "    def __init__(self,value):\n",
    "        \n",
    "        self.value = value\n",
    "        self.nextnode = None\n",
    "        self.previousnode = None"
   ]
  },
  {
   "cell_type": "code",
   "execution_count": 102,
   "metadata": {},
   "outputs": [],
   "source": [
    "a = DoublyLinkedListNode(1)\n",
    "b = DoublyLinkedListNode(2)\n",
    "c = DoublyLinkedListNode(3)"
   ]
  },
  {
   "cell_type": "code",
   "execution_count": 103,
   "metadata": {},
   "outputs": [],
   "source": [
    "a.nextnode = b\n",
    "b.previousnode = a"
   ]
  },
  {
   "cell_type": "code",
   "execution_count": 104,
   "metadata": {},
   "outputs": [],
   "source": [
    "b.next_node = c\n",
    "c.previousnode = b"
   ]
  },
  {
   "cell_type": "markdown",
   "metadata": {},
   "source": [
    "# Singly Linked List Cycle Check #\n",
    "\n",
    "Return a True if a node refers to a previous node (cycle) and False otherwise\n",
    "\n",
    "cycle_check uses the idea of 2 runners running in either a loop or a straight line. If there is a loop, marker2 will eventually 'lap' marker1 and they would equal. If it was a straight line, then marker2 will never equal marker1. Time complexity of O(n) and space complexity of O(1)\n",
    "\n",
    "cycle_check2: uses dictionary to verify that the node has not been repeated. This will have a similar time complexity of O(n), but has a much higher space complexity of O(n) "
   ]
  },
  {
   "cell_type": "code",
   "execution_count": 105,
   "metadata": {},
   "outputs": [],
   "source": [
    "def cycle_check(node):\n",
    "    \n",
    "    marker1 = node\n",
    "    marker2 = node\n",
    "    \n",
    "    while marker2 != None and marker2.nextnode != None:\n",
    "    \n",
    "        marker1 = marker1.nextnode\n",
    "        marker2 = marker2.nextnode.nextnode\n",
    "\n",
    "        if marker2 == marker1:\n",
    "            return True\n",
    "    \n",
    "    return False"
   ]
  },
  {
   "cell_type": "code",
   "execution_count": 106,
   "metadata": {},
   "outputs": [],
   "source": [
    "def cycle_check2(node):\n",
    "    \n",
    "    d = {}\n",
    "    \n",
    "    while node.nextnode:\n",
    "        if node in  d:\n",
    "            return True\n",
    "        else:\n",
    "            d[node]=1\n",
    "        node = node.nextnode\n",
    "    \n",
    "    return False"
   ]
  },
  {
   "cell_type": "code",
   "execution_count": 152,
   "metadata": {
    "scrolled": true
   },
   "outputs": [
    {
     "name": "stdout",
     "output_type": "stream",
     "text": [
      "24.4 ns ± 3.62 ns per loop (mean ± std. dev. of 7 runs, 10000000 loops each)\n",
      "26.6 ns ± 2.63 ns per loop (mean ± std. dev. of 7 runs, 10000000 loops each)\n"
     ]
    }
   ],
   "source": [
    "# CRa = Node(1)\n",
    "b = Node(2)\n",
    "c = Node(3)\n",
    "\n",
    "a.nextnode = b\n",
    "b.nextnode = c\n",
    "c.nextnode = a # Cycle Here!\n",
    "\n",
    "\n",
    "# CREATE NON CYCLE LIST\n",
    "x = Node(1)\n",
    "y = Node(2)\n",
    "z = Node(3)\n",
    "\n",
    "x.nextnode = y\n",
    "y.nextnode = z\n",
    "\n",
    "\n",
    "#############\n",
    "class TestCycleCheck(object):   \n",
    "\n",
    "    def test(self,sol):\n",
    "        assert_equal(sol(a),True)\n",
    "        assert_equal(sol(x),False)\n",
    "        \n",
    "        #print(\"ALL TEST CASES PASSED\")\n",
    "        \n",
    "# Run Tests\n",
    "\n",
    "t = TestCycleCheck()\n",
    "#t.test(cycle_check)\n",
    "#t.test(cycle_check2)\n",
    "\n",
    "%timeit cycle_check\n",
    "%timeit cycle_check2"
   ]
  },
  {
   "cell_type": "markdown",
   "metadata": {},
   "source": [
    "# Linked List Reversal #\n",
    "\n",
    "Output a linked list in reversed order\n",
    "\n",
    "Goal is to NOT create a new list, just do it in O(1) space and O(n) time\n",
    "\n",
    "We can achieve this by changing the nextnode pointer to the previous node"
   ]
  },
  {
   "cell_type": "code",
   "execution_count": 137,
   "metadata": {},
   "outputs": [],
   "source": [
    "def reverse(head):\n",
    "    next_node = None\n",
    "    curr_node = None\n",
    "    prev_node = None\n",
    " \n",
    " \n",
    "    while (head):\n",
    "        #store the current node before we lose them\n",
    "        next_node = head.nextnode \n",
    "        curr_node = head\n",
    "        \n",
    "        #this is the point of the question, flip nextnode to previous node\n",
    "        curr_node.nextnode = prev_node\n",
    "        \n",
    "        #adjust prev_node for the next iteration\n",
    "        prev_node = curr_node\n",
    "        \n",
    "        #move onto the next node\n",
    "        head = next_node"
   ]
  },
  {
   "cell_type": "code",
   "execution_count": 138,
   "metadata": {},
   "outputs": [],
   "source": [
    "# Create a list of 4 nodes\n",
    "a = Node(1)\n",
    "b = Node(2)\n",
    "c = Node(3)\n",
    "d = Node(4)\n",
    "\n",
    "# Set up order a,b,c,d with values 1,2,3,4\n",
    "a.nextnode = b\n",
    "b.nextnode = c\n",
    "c.nextnode = d"
   ]
  },
  {
   "cell_type": "code",
   "execution_count": 139,
   "metadata": {},
   "outputs": [
    {
     "name": "stdout",
     "output_type": "stream",
     "text": [
      "2\n",
      "3\n",
      "4\n"
     ]
    }
   ],
   "source": [
    "print(a.nextnode.value)\n",
    "print(b.nextnode.value)\n",
    "print(c.nextnode.value)"
   ]
  },
  {
   "cell_type": "code",
   "execution_count": 140,
   "metadata": {},
   "outputs": [
    {
     "name": "stdout",
     "output_type": "stream",
     "text": [
      "3\n",
      "2\n",
      "1\n"
     ]
    }
   ],
   "source": [
    "reverse(a)\n",
    "print(d.nextnode.value)\n",
    "print(c.nextnode.value)\n",
    "print(b.nextnode.value)"
   ]
  },
  {
   "cell_type": "markdown",
   "metadata": {},
   "source": [
    "# Linked List Nth to Last Node\n",
    "\n",
    "Given a head node and integer value n, return the nth to last node in the linked list.\n",
    "\n",
    "nth_to_last_node - a list is generated, and then the value is identified. This runs about the same speed, but requires more memory\n",
    "\n",
    "nth_to_last_node2 - spaced out pointers to have O(1) space, but runs a little bit slower"
   ]
  },
  {
   "cell_type": "code",
   "execution_count": 148,
   "metadata": {},
   "outputs": [],
   "source": [
    "def nth_to_last_node(n,head):\n",
    "    d = []\n",
    "    \n",
    "    while head:\n",
    "        d.append(head)\n",
    "        head = head.nextnode\n",
    "        \n",
    "    slot = len(d)-n\n",
    "    return d[slot]"
   ]
  },
  {
   "cell_type": "code",
   "execution_count": 153,
   "metadata": {},
   "outputs": [],
   "source": [
    "def nth_to_last_node2(n,head):\n",
    "    \n",
    "    left_pointer = head\n",
    "    right_pointer = head  \n",
    "\n",
    "    for i in range(n-1):\n",
    "        \n",
    "        #edge case where there is not enough nodes\n",
    "        if not right_pointer.nextnode:\n",
    "            raise LoopupError('Error: n  is larger than the linked list')\n",
    "            \n",
    "        right_pointer = right_pointer.nextnode\n",
    "    \n",
    "    while right_pointer.nextnode:\n",
    "        \n",
    "        left_pointer = left_pointer.nextnode\n",
    "        right_pointer = right_pointer.nextnode        \n",
    "        \n",
    "    return left_pointer"
   ]
  },
  {
   "cell_type": "code",
   "execution_count": 155,
   "metadata": {
    "scrolled": true
   },
   "outputs": [
    {
     "name": "stdout",
     "output_type": "stream",
     "text": [
      "21.9 ns ± 1.38 ns per loop (mean ± std. dev. of 7 runs, 10000000 loops each)\n",
      "26.9 ns ± 1.42 ns per loop (mean ± std. dev. of 7 runs, 10000000 loops each)\n"
     ]
    }
   ],
   "source": [
    "from nose.tools import assert_equal\n",
    "\n",
    "a = Node(1)\n",
    "b = Node(2)\n",
    "c = Node(3)\n",
    "d = Node(4)\n",
    "e = Node(5)\n",
    "\n",
    "a.nextnode = b\n",
    "b.nextnode = c\n",
    "c.nextnode = d\n",
    "d.nextnode = e\n",
    "\n",
    "####\n",
    "\n",
    "class TestNLast(object):\n",
    "    \n",
    "    def test(self,sol):\n",
    "        \n",
    "        assert_equal(sol(2,a),d)\n",
    "        #print('ALL TEST CASES PASSED')\n",
    "        \n",
    "# Run tests\n",
    "t = TestNLast()\n",
    "t.test(nth_to_last_node2)\n",
    "\n",
    "%timeit nth_to_last_node\n",
    "%timeit nth_to_last_node2"
   ]
  }
 ],
 "metadata": {
  "kernelspec": {
   "display_name": "Python 3",
   "language": "python",
   "name": "python3"
  },
  "language_info": {
   "codemirror_mode": {
    "name": "ipython",
    "version": 3
   },
   "file_extension": ".py",
   "mimetype": "text/x-python",
   "name": "python",
   "nbconvert_exporter": "python",
   "pygments_lexer": "ipython3",
   "version": "3.6.5"
  }
 },
 "nbformat": 4,
 "nbformat_minor": 2
}
