{
 "cells": [
  {
   "attachments": {
    "Capture.JPG": {
     "image/jpeg": "[encoded data removed]"
    }
   },
   "cell_type": "markdown",
   "metadata": {},
   "source": [
    "# Graph Review\n",
    "\n",
    "G=(V,E) where:\n",
    "\n",
    "V = set of vertices\n",
    "\n",
    "E = set of edges\n",
    "- e = {V,W} unordered pairs (undirected)\n",
    " ![Capture.JPG](attachment:Capture.JPG)\n",
    " V = {1,2,3,4}\n",
    " \n",
    " E = {{1,2},{1,4},...}\n",
    "- e = (V,W) ordered pairs (directed)\n",
    " ![Capture.JPG](attachment:Capture.JPG)\n",
    " V = {1,2,3,4}\n",
    " \n",
    " E = {(1,2),(2,4),(3,1),(3,4),(4,2)}\n",
    " \n",
    " If you wanted to find the neighboors of one vertex, you would have to go through the whole edge list, which is linear time. Instead, you want to use adjacency list.\n",
    " \n",
    "## Applications\n",
    "- Web crawling: finding links from pages you already have\n",
    "- social networking: friend finder,friends that are close to you, or friends of friends\n",
    "- network broadcast: send a packet out to which node\n",
    "- garbage collection: almost every modern language has garbage collection. If there is some data structure that is not reachable, you can throw it away to save memeory. This is done through a BFS\n",
    "- model checking: some fininte model of code, chip, circuit. you want to make sure that you can reach all the states, most people do that with a BFS\n",
    "- checking mathematical conjectures: imagine a graph of all possible outputs of a theorems, we want to check them all to see if our theorom is correct\n",
    "- solving puzzles and games: solving a 2x2 rubics cube. Solving the shortest route\n",
    "\n",
    "## Pocket Cube (2x2x2)\n",
    "Configuration graph\n",
    "### Vertex: has a vertex for each possible configuration of the cube \n",
    "- # of verticies = 8!*3<sup>8</sup>)= 264,539,520. This makes sense because there are 8 cubeletts, and each cube has 3 faces that can be oriented in various ways\n",
    "- divide this number by 24 because of symmetry\n",
    "- divide by 3 because only a third of the cube is actually reachable if you cannot take the cube appart\n",
    "- the number of vertices can also be defined by the number of faces, 24. The state of the cube will then be defined by a permutation of 24, with the solved solution being [0,1,2,3,...,21,22,23]\n",
    "### Edge: for each possible move\n",
    "- you can undo the your moves, therefore this graph will be UNDIRECTED\n",
    "\n",
    "The diameter of this graph is 11. Diameter being the number of steps. 11 is the worst case, there can be a solution that is less than 11. Diameter is also known as God's Number. For 3x3x3, the diamter is 20. \n",
    "\n",
    "Fun Fact: an estimated order to solve a cube of nxnxn is O(n<sup>2</sup>/lg n)\n"
   ]
  },
  {
   "cell_type": "markdown",
   "metadata": {},
   "source": [
    "# Graph Representation\n",
    "## Adjacency list (Adj) (O(V+E)):\n",
    "### Array version - use it for multiple graphs where we can use the vertices to talk to each other\n",
    "- Adj[u] can be a hash table or array\n",
    "- Each element in the array of vertices is a pointer to a linked list\n",
    "- This linked list would be composed of the neighbour vertices\n",
    "- Adj[u] = {vϵV|(u,v)ϵE} = set of all vertices v such that u,v is an edge\n",
    "- Ex. Adj[3] = {1,4}, Adj[1] = {2}\n",
    "### Object oriented version - cleaner and would mainly be used for only one graph\n",
    "- v.neighbours = Adj[v]\n",
    "### Implicit representation - where you would want to build the graph up to a point, ie rubics cube\n",
    "- Adj(u) is a function\n",
    "- v.neighbours() is a method\n",
    "\n",
    "# Breadth First Search (BFS) or Depth  First Search (DFS)\n",
    "- The difference between BFS and DFS is that DFS searches one node completely before moving to another while BFS searches the whole level before moving on\n",
    "- BFS uses a queue while DFS uses a stack (first in, first out)"
   ]
  },
  {
   "cell_type": "code",
   "execution_count": 87,
   "metadata": {},
   "outputs": [],
   "source": [
    "# Vertex Class\n",
    "\n",
    "class Vertex:\n",
    "    \n",
    "    def __init__(self,key):\n",
    "        self.id = key\n",
    "        self.connectedTo = {}\n",
    "        \n",
    "    def addNeighbor(self,nbr,weight):\n",
    "        self.connectedTo[nbr] = weight\n",
    "        \n",
    "    def getConnections(self):\n",
    "        return self.connectedTo.keys()\n",
    "    \n",
    "    def getID(self):\n",
    "        return self.id\n",
    "    \n",
    "    def getWeight(self,nbr):\n",
    "        return self.connectedTo[nbr]\n",
    "    \n",
    "    def __str__(self):\n",
    "        return str(self.id) + ' connected to: ' + str([x.id for x in self.connectedTo])"
   ]
  },
  {
   "cell_type": "code",
   "execution_count": 30,
   "metadata": {},
   "outputs": [],
   "source": [
    "#Directed Graph\n",
    "\n",
    "class Graph:\n",
    "    \n",
    "    def __init__(self):\n",
    "        self.vertList = {} # this is a dictionary\n",
    "        self.numVertices = 0\n",
    "        \n",
    "    def addVertex(self,key):\n",
    "        self.numVertices += 1\n",
    "        newVertex = Vertex(key)\n",
    "        self.vertList[key] = newVertex\n",
    "        return newVertex\n",
    "    \n",
    "    def getVertex(self,n):\n",
    "        if n in self.vertList:\n",
    "            return self.vertList[n]\n",
    "        else:\n",
    "            return None\n",
    "        \n",
    "    def addEdge(self,f,t,cost=0): #f=from, t=to, cost=weight\n",
    "        if f not in self.vertList:\n",
    "            nv = self.addVertex(f)            \n",
    "        if t not in self.vertList:\n",
    "            nv = self.addVertex(t) \n",
    "        self.vertList[f].addNeighbor(self.vertList[t],cost)\n",
    "        # how does addNeighbor get called \n",
    "        \n",
    "    def getVertices(self):\n",
    "        return self.vertList.keys()\n",
    "    \n",
    "    def __iter__(self):\n",
    "        return iter(self.vertList.values())\n",
    "    \n",
    "    def __contains__(self,n):\n",
    "        return n in self.verList"
   ]
  },
  {
   "cell_type": "code",
   "execution_count": 2,
   "metadata": {},
   "outputs": [],
   "source": [
    "g = Graph()"
   ]
  },
  {
   "cell_type": "code",
   "execution_count": 6,
   "metadata": {},
   "outputs": [],
   "source": [
    "for i in range(6):\n",
    "    g.addVertex(i)"
   ]
  },
  {
   "cell_type": "code",
   "execution_count": 7,
   "metadata": {},
   "outputs": [
    {
     "data": {
      "text/plain": [
       "{0: <__main__.Vertex at 0x4addc50>,\n",
       " 1: <__main__.Vertex at 0x4addc88>,\n",
       " 2: <__main__.Vertex at 0x4addcc0>,\n",
       " 3: <__main__.Vertex at 0x4addcf8>,\n",
       " 4: <__main__.Vertex at 0x4addd30>,\n",
       " 5: <__main__.Vertex at 0x4addac8>}"
      ]
     },
     "execution_count": 7,
     "metadata": {},
     "output_type": "execute_result"
    }
   ],
   "source": [
    "g.vertList"
   ]
  },
  {
   "cell_type": "code",
   "execution_count": 8,
   "metadata": {},
   "outputs": [],
   "source": [
    "g.addEdge(0,1,2)"
   ]
  },
  {
   "cell_type": "code",
   "execution_count": 29,
   "metadata": {},
   "outputs": [
    {
     "name": "stdout",
     "output_type": "stream",
     "text": [
      "0 connected to: [1, 2]\n",
      "dict_keys([<__main__.Vertex object at 0x0000000004ADDC88>, <__main__.Vertex object at 0x0000000004ADDCC0>])\n",
      "\n",
      "\n",
      "1 connected to: []\n",
      "dict_keys([])\n",
      "\n",
      "\n",
      "2 connected to: [0]\n",
      "dict_keys([<__main__.Vertex object at 0x0000000004ADDC50>])\n",
      "\n",
      "\n",
      "3 connected to: []\n",
      "dict_keys([])\n",
      "\n",
      "\n",
      "4 connected to: []\n",
      "dict_keys([])\n",
      "\n",
      "\n",
      "5 connected to: []\n",
      "dict_keys([])\n",
      "\n",
      "\n"
     ]
    }
   ],
   "source": [
    "for vertex in g:\n",
    "    print (vertex)\n",
    "    print (vertex.getConnections())\n",
    "    print ('\\n')"
   ]
  },
  {
   "cell_type": "code",
   "execution_count": 26,
   "metadata": {},
   "outputs": [],
   "source": [
    "g.addEdge(0,2,3)"
   ]
  },
  {
   "cell_type": "code",
   "execution_count": 28,
   "metadata": {},
   "outputs": [],
   "source": [
    "g.addEdge(2,0,3)"
   ]
  },
  {
   "cell_type": "markdown",
   "metadata": {},
   "source": [
    "# Word Ladder Problem\n",
    "\n",
    "Keys: Labels on the buckets\n",
    "Value: list of the words"
   ]
  },
  {
   "cell_type": "code",
   "execution_count": 32,
   "metadata": {},
   "outputs": [],
   "source": [
    "def buildGraph(wordFile):\n",
    "    d = {}\n",
    "    g = Graph()\n",
    "    \n",
    "    wfile = open(wordFile,'r')\n",
    "    \n",
    "    #create buckts of words that differ by one letter\n",
    "    for line in wfile:\n",
    "        print (line)\n",
    "        word = line[:-1]\n",
    "        print (word)\n",
    "        \n",
    "        for i in range(len(word)):\n",
    "            bucket = word[:i] + '_' + word[i +1:]\n",
    "            \n",
    "            if bucket in d:\n",
    "                d[buckt].append(word)\n",
    "            else:\n",
    "                d[bucket] = [word]\n",
    "                \n",
    "        # add vertices and edges for words in the same bucket\n",
    "        for bucekt in d.keys():\n",
    "            for word1 in d[bucket]:\n",
    "                for word2 in d[bucket]:\n",
    "                    if word1 != word2:\n",
    "                        g.addEdge(word1,word2)\n",
    "        return g"
   ]
  },
  {
   "cell_type": "markdown",
   "metadata": {},
   "source": [
    "# Breadth First Search (BFS)\n",
    "How can we find the shortest solution to the word ladder problem?\n",
    "\n",
    "- Visit all nodes reachable from given sϵV\n",
    "- O(V+E)\n",
    "- look at nodes reachable in 0 moves {s}, 1 move (Adj[s]), 2 moves...\n",
    "- carful to avoid duplicates (previous states) or else we run into an infinite loop\n"
   ]
  },
  {
   "cell_type": "code",
   "execution_count": 43,
   "metadata": {},
   "outputs": [],
   "source": [
    "def BFS(s, Adj):\n",
    "    level = {s:0} \n",
    "    parent = {s: None}   \n",
    "    i = 1\n",
    "    frontier = [s] #all the things that can be reached in i-1 moves\n",
    "    \n",
    "    while frontier:        \n",
    "        nextlayer = [] #all the things that can be reached in i moves\n",
    "        for u in frontier:\n",
    "            for v in Adj[u]:\n",
    "                if v not in level:\n",
    "                    level[v] = i\n",
    "                    parent[v] = u\n",
    "                    nextlayer.append(v)\n",
    "        frontier = next\n",
    "    i += 1"
   ]
  },
  {
   "cell_type": "markdown",
   "metadata": {},
   "source": [
    "## Shortest Paths\n",
    "-  V <- parent[v]\n",
    "     <- parenth[parent[v]]\n",
    "     <- ...\n",
    "     <- s\n",
    "- is a shortest path from s to v\n",
    "- shortest path means that you use the fewest edges level[v]\n",
    "\n",
    "The runtime for this algorithm is 2x|E| (the handshaking lemma) for undirected graphs, or |E| for directed graphs"
   ]
  },
  {
   "cell_type": "code",
   "execution_count": 44,
   "metadata": {},
   "outputs": [],
   "source": [
    "# another way of visualizing BFS\n",
    "\n",
    "def bfs2(g, start):\n",
    "    start.setDistance(0)\n",
    "    start.setPred(None)\n",
    "    vertQueue = Queue()\n",
    "    vertQueue.endqueue(start)\n",
    "    while (vertQueue.size() > 0):\n",
    "        currentVert = vertQueue.dequeue()\n",
    "        for nbr in currentVert.getConnections():\n",
    "            nbr.setColor('gray')\n",
    "            nbr.setDistance(currentVert.getDistance()+1)\n",
    "            nbr.setPred(currentVert)\n",
    "            vertQueue.enqueue(nbr)\n",
    "        currentVert.setColor('black')       "
   ]
  },
  {
   "cell_type": "markdown",
   "metadata": {},
   "source": [
    "# Depth First Search\n",
    "Uses include:\n",
    "- Edge Classification\n",
    "- Cycle Detection\n",
    "- Topoligcal Sort\n",
    "\n",
    "Recursively explore the graph, and back track as necessary (kind of like how you would solve a maze) \n",
    "\n",
    "Careful to not repeat vertices"
   ]
  },
  {
   "cell_type": "code",
   "execution_count": 95,
   "metadata": {},
   "outputs": [],
   "source": [
    "s = None\n",
    "parent = {s:None}\n",
    "#DFS_Visit just looks at the graph from s, meaning it may or may not be the whole graph\n",
    "def DFS_Visit(V,Adj,s): #s is the source vertex\n",
    "    for v in Adj[s]:\n",
    "        if v not in partn:\n",
    "            parent[v]=s\n",
    "            dfs_Visit(v,Adj,v)\n",
    "#This algorithm is looking at all the possible places you may start the search and trying them all. \n",
    "#It is particularly useful when the whole graph is not as connected\n",
    "def DFS(V,Adj):\n",
    "    parent = {}\n",
    "    for s in V:\n",
    "        if s not in parent:\n",
    "            parent[s]=None\n",
    "            DFS_Visit(V,Adj,s)"
   ]
  },
  {
   "cell_type": "markdown",
   "metadata": {},
   "source": [
    "## Run Time\n",
    "Linear time, O(V+E), just like BFS\n",
    "- visit each vertex once in DFS alone; O(V)\n",
    "- DFS_Visit called once per vertex v\n",
    "    - pay length of Adj[v]\n",
    "- Therefore O(∑|Adj[V]) = O(E) -> Handshake Lemma\n",
    "\n",
    "## Edge Classification\n",
    "In a directed graph, every edge gets visited once, in an undirected graph, it is visited twice (one from each side). A - Tree edge (Parent Pointer) is when you visit a new vertex via that edge\n",
    "- Forward Edge:from a node to a decendent in the forest\n",
    "- Backward Edge: from a node to an ancestor in the forst\n",
    "- Cross Edge: goes from one tree to another, between non-ancestor related subtrees\n",
    "\n",
    "Note:\n",
    "- You can never have a forward edge in an undirected edge. Instead, it is a backwards edge\n",
    "- Directed graphs will have tree and cross edges, while undirected will have tree edges\n",
    "\n",
    "### Edge classification is important for cycle detection . Particularly in directed graphs.\n",
    "G has a cycle if and only if DFS has a back edge\n",
    "\n",
    "### Topological Sort: Job Scheduling\n",
    "Given a directed acyclic graph (DAG). Order vertices so that all edges point from lower order to higher order. For any edge e=(u,v), v finishes before u funishes\n",
    "\n",
    "#### Case 1: I starts before V\n",
    "#### Case 2: Starts before U"
   ]
  },
  {
   "cell_type": "markdown",
   "metadata": {},
   "source": [
    "# Knight's Tour Problem (example on why we would want a Depth First Search)\n",
    "The object of the puzzle is to find a sequence of moves that allow the knight to visit every square on the board exactly once\n",
    "- you can solve the problem using two main steps:\n",
    "    - Represent the legal moves of a knight on a chessboard as a graph\n",
    "    - use a graph algorithm to find a path of length rows x columns-1 where every vertex on the graph is visited exactly once\n",
    "    \n"
   ]
  },
  {
   "cell_type": "code",
   "execution_count": 54,
   "metadata": {},
   "outputs": [],
   "source": [
    "#bdSize is the board size... 8\n",
    "\n",
    "def knightGraph(bdSize):\n",
    "    ktGraph = Graph()\n",
    "    for row in range(bdSize):\n",
    "        nodeID = posToNodeId(row,col,bdSize)\n",
    "        newPositions = genLegalMoves(row,col,bdsize)\n",
    "        for e in newPositions:\n",
    "            nid = posToNodeId(e[0],e[1],bdSize)\n",
    "            ktGraph.addEdge(nodeId,nid)\n",
    "    return ktGraph\n",
    "\n",
    "def posToNodeId(row,column,board_size):\n",
    "    return(row*board_size) + column #converts the position into a vertex number\n",
    "\n",
    "def genLegalMoves(x,n,bdSize):\n",
    "    newMoves = []\n",
    "    moveOffsets = [(-1,-2),(-1,2),(-2,-1),(-2,1),\n",
    "                   (1,-2),(1,2),(2,-1),(2,1)]\n",
    "    for i in moveOffsets:\n",
    "        newX = x + i[0]\n",
    "        newY = x + i[1]\n",
    "        if legalCoord(newX,bdSize) and \\\n",
    "                    legalCoord(newY,bdSize):\n",
    "                    #this backslash just tells python to continue this line even though it is on a new line\n",
    "            newMoves.append((newX,newY))\n",
    "    return newMoves\n",
    "\n",
    "def legalCoord(x,bdSize):\n",
    "    if x >= 0 and x < bdSize:\n",
    "        return True\n",
    "    else:\n",
    "        return False"
   ]
  },
  {
   "cell_type": "code",
   "execution_count": 55,
   "metadata": {},
   "outputs": [],
   "source": [
    "def knightTour(n,path,u,limit):\n",
    "        u.setColor('gray')\n",
    "        path.append(u)\n",
    "        if n < limit:\n",
    "            nbrList = list(u.getConnections())\n",
    "            i = 0\n",
    "            done = False\n",
    "            while i < len(nbrList) and not done:\n",
    "                if nbrList[i].getColor() == 'white':\n",
    "                    done = knightTour(n+1, path, nbrList[i], limit)\n",
    "                i = i + 1\n",
    "            if not done:  # prepare to backtrack\n",
    "                path.pop()\n",
    "                u.setColor('white')\n",
    "        else:\n",
    "            done = True\n",
    "        return done"
   ]
  },
  {
   "cell_type": "markdown",
   "metadata": {},
   "source": [
    "# Implementing a Graph Overview"
   ]
  },
  {
   "cell_type": "code",
   "execution_count": 59,
   "metadata": {},
   "outputs": [],
   "source": [
    "from enum import Enum\n",
    "from collections import OrderedDict\n",
    "\n",
    "class State(Enum):\n",
    "    unvisited = 1\n",
    "    visited = 2\n",
    "    visiting = 3\n",
    "    \n",
    "class Node:\n",
    "    \n",
    "    def __init__(self,num):\n",
    "        self.num=num\n",
    "        self.visit_state = State.unvisited  #we can now track if the item has bee visited or not\n",
    "        self.adjacent = OrderedDict()       # key = node, value = weight\n",
    "        \n",
    "    def __str__(self):\n",
    "        return str(self.num)\n",
    "        \n",
    "class Graph:\n",
    "    \n",
    "    def __init__(self):\n",
    "        self.nodes = OrderedDict()\n",
    "        \n",
    "    def add_node(self,num):\n",
    "        node = Node(num)\n",
    "        self.nodes[num] = node\n",
    "        return node\n",
    "    \n",
    "    def add_edge(self,source,dest,weight=0): # Adjacency list\n",
    "        if source not in self.nodes:\n",
    "            self.add_node(source)\n",
    "        if dest not in self.nodes:\n",
    "            self.add_node(dest)\n",
    "            \n",
    "        self.nodes[source].adjacent[self.nodes[dest]] = weight"
   ]
  },
  {
   "cell_type": "code",
   "execution_count": 60,
   "metadata": {},
   "outputs": [],
   "source": [
    "g = Graph()"
   ]
  },
  {
   "cell_type": "code",
   "execution_count": 61,
   "metadata": {},
   "outputs": [],
   "source": [
    "g.add_edge(0,1,5)"
   ]
  },
  {
   "cell_type": "code",
   "execution_count": 62,
   "metadata": {},
   "outputs": [
    {
     "data": {
      "text/plain": [
       "OrderedDict([(0, <__main__.Node at 0x4f65908>),\n",
       "             (1, <__main__.Node at 0x4f658d0>)])"
      ]
     },
     "execution_count": 62,
     "metadata": {},
     "output_type": "execute_result"
    }
   ],
   "source": [
    "g.nodes"
   ]
  },
  {
   "cell_type": "code",
   "execution_count": 63,
   "metadata": {},
   "outputs": [],
   "source": [
    "g.add_edge(1,2,3)"
   ]
  },
  {
   "cell_type": "code",
   "execution_count": 64,
   "metadata": {},
   "outputs": [
    {
     "data": {
      "text/plain": [
       "OrderedDict([(0, <__main__.Node at 0x4f65908>),\n",
       "             (1, <__main__.Node at 0x4f658d0>),\n",
       "             (2, <__main__.Node at 0x4f65e80>)])"
      ]
     },
     "execution_count": 64,
     "metadata": {},
     "output_type": "execute_result"
    }
   ],
   "source": [
    "g.nodes"
   ]
  },
  {
   "cell_type": "code",
   "execution_count": 66,
   "metadata": {},
   "outputs": [
    {
     "data": {
      "text/plain": [
       "OrderedDict([(0, <__main__.Node at 0x4f65908>),\n",
       "             (1, <__main__.Node at 0x4f658d0>),\n",
       "             (2, <__main__.Node at 0x4f65e80>)])"
      ]
     },
     "execution_count": 66,
     "metadata": {},
     "output_type": "execute_result"
    }
   ],
   "source": [
    "g.nodes"
   ]
  },
  {
   "cell_type": "markdown",
   "metadata": {},
   "source": [
    "# Implementation of a Depth First Search"
   ]
  },
  {
   "cell_type": "code",
   "execution_count": 82,
   "metadata": {},
   "outputs": [],
   "source": [
    "graph = {'A': set(['B', 'C']),\n",
    "         'B': set(['A', 'D', 'E']),\n",
    "         'C': set(['A', 'F']),\n",
    "         'D': set(['B']),\n",
    "         'E': set(['B', 'F']),\n",
    "         'F': set(['C', 'E'])}"
   ]
  },
  {
   "cell_type": "code",
   "execution_count": 155,
   "metadata": {
    "scrolled": false
   },
   "outputs": [
    {
     "data": {
      "text/plain": [
       "{'A', 'B', 'C', 'D', 'E', 'F'}"
      ]
     },
     "execution_count": 155,
     "metadata": {},
     "output_type": "execute_result"
    }
   ],
   "source": [
    "def dfs(graph,start):\n",
    "    visited = set()\n",
    "    stack = [start]\n",
    "    \n",
    "    while stack:\n",
    "        vertex = stack.pop()\n",
    "        \n",
    "        if vertex not in visited:\n",
    "            visited.add(vertex)\n",
    "            added_part = graph[vertex] - visited\n",
    "            stack.extend(added_part) #set(['B', 'C'] - set('B') = set('C')\n",
    "                    \n",
    "    return visited #Return automatically sorts the vertexes, print would return the list unsorted\n",
    "\n",
    "dfs(graph,'E')"
   ]
  },
  {
   "cell_type": "code",
   "execution_count": 156,
   "metadata": {},
   "outputs": [
    {
     "name": "stdout",
     "output_type": "stream",
     "text": [
      "['C']\n",
      "['C']\n",
      "['C', 'A']\n",
      "['C', 'A', 'B']\n",
      "['C', 'A', 'B']\n",
      "['C', 'A', 'B', 'E']\n"
     ]
    },
    {
     "data": {
      "text/plain": [
       "[['C', 'F'], ['C', 'A', 'B', 'E', 'F']]"
      ]
     },
     "execution_count": 156,
     "metadata": {},
     "output_type": "execute_result"
    }
   ],
   "source": [
    "def dfs_paths(graph, start, goal):\n",
    "    stack = [(start, [start])]\n",
    "\n",
    "    while stack:\n",
    "        (vertex, path) = stack.pop() #stores the start in vertex and [start] in path\n",
    "        for nxt in graph[vertex] - set(path):\n",
    "            \n",
    "            #print(nxt)\n",
    "            #print(graph[vertex])\n",
    "            \n",
    "            #print(path)\n",
    "            #print(graph[vertex]-set(path))            \n",
    "            \n",
    "            if nxt == goal:\n",
    "\n",
    "                yield path + [nxt]\n",
    "                \n",
    "            else:\n",
    "                stack.append((nxt, path + [nxt]))\n",
    "\n",
    "list(dfs_paths(graph, 'C', 'F'))"
   ]
  },
  {
   "cell_type": "code",
   "execution_count": 141,
   "metadata": {
    "scrolled": true
   },
   "outputs": [
    {
     "data": {
      "text/plain": [
       "{'A', 'B', 'C', 'D', 'E', 'F'}"
      ]
     },
     "execution_count": 141,
     "metadata": {},
     "output_type": "execute_result"
    }
   ],
   "source": [
    "def bfs(graph,start):\n",
    "    visited = set()\n",
    "    queue = [start]\n",
    "    \n",
    "    while queue:\n",
    "        vertex =queue.pop(0)\n",
    "        if vertex not in visited:\n",
    "            visited.add(vertex)\n",
    "            queue.extend(graph[vertex]-visited)\n",
    "            \n",
    "    return visited\n",
    "bfs(graph,\"D\")"
   ]
  },
  {
   "cell_type": "markdown",
   "metadata": {},
   "source": [
    " # Single Source Shortest Paths Problem (Considering Weights)\n",
    " Motivation:\n",
    " - G(V,E,W), where Graph(Vertices, Edges, Weights)\n",
    " - Two Algorithms\n",
    "     - Dijkstra: non-negative edges with a complexity of O(V LnV + E), which is practically linear time. E=O(v<sup>2</sup>)\n",
    "     - Bellmen-Ford: for -/+ edges, with O(VE)=O(v<sup>3</sup>). So when you can, Dijkstra is much faster.\n",
    "     \n",
    " - These two algorithms are independent of weight\n",
    " - You can sometimes change a graph from a +/-ve to just +ve by making the base case +ve. A -ve weighting can be used in social networks, tolls\n",
    "     \n",
    "- Path p = <Vo,V1,Vk> where (Vi,Vi+1)ϵE for 0 ≤ i ≤ k\n",
    "- W(p) = ∑w(vi,vi+1)\n",
    "\n",
    "Therefore the shortest path should have the lowest weight (need to watch out for -ve weights)\n",
    "\n",
    "## Negative Cycles\n",
    "You can get stuck in an infinite loop where your loop path is -6, +2, +3, and you will continue to loop through and net -1 each loop. The algorithm needs to be able to identify negative cycles so that the route will not be - infinity (indeterminate)\n",
    "\n",
    "## General Structure (no negative cycles)\n",
    "- Initialize for u ϵ V, d[v] = infinity, π[u] = NIL (π is the predecessor)\n",
    "- d[s] = 0\n",
    "- repeat select edge (u,v) [somehow]\n",
    "- \"Relax\" edge(u,v), or \"Relaxation\" is when you update a value with another one that provides a shorter path. An anology is with an initial over estimate of path being a tension spring in tension. As the path is shortened, the tension spring is \"relaxed\"\n",
    "    - if d[v] > d[u] + w(u,v):\n",
    "    \n",
    "        d[v] = d[u] + w(u,v)\n",
    "        \n",
    "        π[v] = u\n"
   ]
  },
  {
   "cell_type": "code",
   "execution_count": null,
   "metadata": {},
   "outputs": [],
   "source": []
  }
 ],
 "metadata": {
  "kernelspec": {
   "display_name": "Python 3",
   "language": "python",
   "name": "python3"
  },
  "language_info": {
   "codemirror_mode": {
    "name": "ipython",
    "version": 3
   },
   "file_extension": ".py",
   "mimetype": "text/x-python",
   "name": "python",
   "nbconvert_exporter": "python",
   "pygments_lexer": "ipython3",
   "version": "3.6.5"
  }
 },
 "nbformat": 4,
 "nbformat_minor": 2
}
