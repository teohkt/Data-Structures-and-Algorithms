{
 "cells": [
  {
   "cell_type": "markdown",
   "metadata": {},
   "source": [
    "# Array Pair Sum #\n",
    "\n",
    "output all the UNIQUE pairs. unique is key in this process because some of the numbers may appear twice!\n",
    "\n",
    "pair_sum - first attemp (sum), adding each pair and comparing it to the expected sum. O(n^2) because there is a nested for loop\n",
    "pair_sum2 - (difference) finding the difference of the expected sum and current number in the array. This is O(n) because there is just one for loop. This fuction would be faster\n",
    "\n",
    "The second function would proably be more space friendly because it stores less values in memory. -- need an expert to comment on this observation"
   ]
  },
  {
   "cell_type": "code",
   "execution_count": 126,
   "metadata": {},
   "outputs": [],
   "source": [
    "def pair_sum(arg1, arg2):\n",
    "    count = 0\n",
    "    sums = set()\n",
    "    len_of_str = len(arg1)-1\n",
    "    \n",
    "    for i in range(len_of_str):\n",
    "        \n",
    "        first_number = arg1[i]\n",
    "        \n",
    "        for k in range(i+1,len(arg1)):            \n",
    "            if first_number+arg1[k] == arg2:\n",
    "\n",
    "                new_sums = (min(arg1[i],arg1[k]),max(arg1[i],arg1[k]))\n",
    "                \n",
    "                if new_sums not in sums:\n",
    "                    sums.add(new_sums)\n",
    "                    count +=1\n",
    "                \n",
    "    return count            "
   ]
  },
  {
   "cell_type": "code",
   "execution_count": 124,
   "metadata": {},
   "outputs": [],
   "source": [
    "def pair_sum2(arg1,arg2):\n",
    "    \n",
    "    #edge case check\n",
    "    if len(arg1) < 2:\n",
    "        print('less than 2 values')\n",
    "        return\n",
    "    \n",
    "    #sets for tracking\n",
    "    seen = set()\n",
    "    output = set()\n",
    "    \n",
    "    for num in arg1:\n",
    "        \n",
    "        target = arg2 - num\n",
    "        \n",
    "        if target not in seen:\n",
    "            seen.add(num)\n",
    "            \n",
    "        else:\n",
    "            output.add( ((min(num,target)), max(num,target)))\n",
    "        \n",
    "    return len(output)\n",
    "    #print('\\n'.join(map(str,list(output))))"
   ]
  },
  {
   "cell_type": "code",
   "execution_count": 127,
   "metadata": {},
   "outputs": [
    {
     "name": "stdout",
     "output_type": "stream",
     "text": [
      "ALL TEST CASES PASSED\n",
      "ALL TEST CASES PASSED\n"
     ]
    }
   ],
   "source": [
    "from nose.tools import assert_equal\n",
    "\n",
    "class TestPair(object):\n",
    "    \n",
    "    def test(self,sol):\n",
    "        assert_equal(sol([1,9,2,8,3,7,4,6,5,5,13,14,11,13,-1],10),6)\n",
    "        assert_equal(sol([1,2,3,1],3),1)\n",
    "        assert_equal(sol([1,3,2,2],4),2)\n",
    "        print('ALL TEST CASES PASSED')\n",
    "        \n",
    "#Run tests\n",
    "t = TestPair()\n",
    "t.test(pair_sum)\n",
    "t.test(pair_sum2)"
   ]
  },
  {
   "cell_type": "markdown",
   "metadata": {},
   "source": [
    "# Find The Missing Element #\n",
    "\n",
    "An array with non-negative numbers is randomized and one random element is deleted. Find which element is missing\n",
    "\n",
    "finder - 2 for loops, O(2n) = O(n (linear time)\n",
    "\n",
    "\n",
    "finder2 - touple unpacking and zip package (this pairs together elements from each array...ie zip([1,2,3],[4,5,6]) returns [(1,4),(2,5),(3,6)]   ) O(n)\n",
    "\n",
    "finder3 - this uses hash tables\n",
    "\n",
    "finder4 - exclusive or (XOR) on the bits, this is a neat trick that converts the two numbers to binary, and finds the difference between that. ie 5 and 7 is 101 and 111, resulting in 010 or 2"
   ]
  },
  {
   "cell_type": "code",
   "execution_count": 176,
   "metadata": {},
   "outputs": [],
   "source": [
    "def finder(arr1,arr2):\n",
    "    seen = []\n",
    "    arr1.sort()\n",
    "    arr2.sort()\n",
    "    \n",
    "    if len(arr1) < len(arr2):\n",
    "        longer = arr2\n",
    "        shorter = arr1\n",
    "        \n",
    "    else:\n",
    "        longer = arr1\n",
    "        shorter = arr2\n",
    "    \n",
    "    for n in longer:\n",
    "        seen.append(n)\n",
    "        \n",
    "    for n in shorter:\n",
    "        seen.remove(n)\n",
    "        \n",
    "    return seen[0]"
   ]
  },
  {
   "cell_type": "code",
   "execution_count": 168,
   "metadata": {},
   "outputs": [],
   "source": [
    "def finder2(arr1, arr2):\n",
    "    \n",
    "    arr1.sort()\n",
    "    arr2.sort()\n",
    "    \n",
    "    for num1, num2 in zip(arr1,arr2):\n",
    "        if num1 != num2:\n",
    "            return num1\n",
    "    #this is because we dont know if arr1 or arr2 is longer\n",
    "    return arr1[-1]"
   ]
  },
  {
   "cell_type": "code",
   "execution_count": 204,
   "metadata": {},
   "outputs": [],
   "source": [
    "import collections\n",
    "\n",
    "def finder3(arr1,arr2):\n",
    "    \n",
    "    #.defaultdict ensures no key errors\n",
    "    d = collections.defaultdict(int)\n",
    "    \n",
    "    for num in arr2:\n",
    "        d[num] += 1\n",
    "        \n",
    "    for num in arr1:\n",
    "        if d[num] == 0:\n",
    "            return num\n",
    "            \n",
    "        \n",
    "        else:\n",
    "            d[num] -= 1"
   ]
  },
  {
   "cell_type": "code",
   "execution_count": 213,
   "metadata": {},
   "outputs": [],
   "source": [
    "def finder4(arr1,arr2):\n",
    "    \n",
    "    result = 0\n",
    "\n",
    "    \n",
    "    for num in arr1+arr2:\n",
    "        result ^= num\n",
    "              \n",
    "    return result"
   ]
  },
  {
   "cell_type": "code",
   "execution_count": 215,
   "metadata": {},
   "outputs": [
    {
     "name": "stdout",
     "output_type": "stream",
     "text": [
      "ALL TEST CASES PASSED\n",
      "ALL TEST CASES PASSED\n",
      "ALL TEST CASES PASSED\n",
      "ALL TEST CASES PASSED\n"
     ]
    }
   ],
   "source": [
    "from nose.tools import assert_equal\n",
    "\n",
    "class TestFinder(object):\n",
    "    \n",
    "    def test(self,sol):\n",
    "        assert_equal(sol([5,5,7,7],[5,7,7]),5)\n",
    "        assert_equal(sol([1,2,3,4,5,6,7],[3,7,2,1,4,6]),5)\n",
    "        assert_equal(sol([9,8,7,6,5,4,3,2,1],[9,8,7,5,4,3,2,1]),6)\n",
    "        print('ALL TEST CASES PASSED')\n",
    "\n",
    "# Run test\n",
    "t = TestFinder()\n",
    "t.test(finder)\n",
    "t.test(finder2)\n",
    "t.test(finder3)\n",
    "t.test(finder4)"
   ]
  },
  {
   "cell_type": "markdown",
   "metadata": {},
   "source": [
    "# Largest Continuous Sum #\n",
    "\n",
    "Given an array of integers (positive and negative) find the largest continuous sum.\n",
    "\n",
    "large_cont_sum - appends a list of sums of increasing amount of consecutive elements. Finds the max value after the whole array is summed. Also includes the first and last value for the edge cases when there are only 2 values in the list. The flaw in this is that it will always start the summation at the first element. This may not always produce the largest continuos sum as proven in the last test case.\n",
    "\n",
    "large_cont_sum2 - covers more edge cases such as array length. The summation has a variable starting point. This would be the correct solution. It also has the ability to output the starting and ending value of the sum series"
   ]
  },
  {
   "cell_type": "markdown",
   "metadata": {},
   "source": [
    "def large_cont_sum(arr):\n",
    "    \n",
    "    sum_list = []\n",
    "    i = 0\n",
    "    \n",
    "    while i < len(arr):\n",
    "        sum_value = 0\n",
    "        for n in range(i):\n",
    "            sum_value += arr[n] \n",
    "            sum_list.append(sum_value)\n",
    "        i += 1\n",
    "        \n",
    "    first_value = arr[0]\n",
    "    last_value = arr[-1]\n",
    "    sum_list.append(first_value)\n",
    "    sum_list.append(last_value)\n",
    "    return max(sum_list)"
   ]
  },
  {
   "cell_type": "code",
   "execution_count": 275,
   "metadata": {},
   "outputs": [],
   "source": [
    "def large_cont_sum2(arr):\n",
    "    \n",
    "    #edge case check\n",
    "    if len(arr) == 0:\n",
    "        return 0\n",
    "    \n",
    "    #assigning these values to the first element of the array\n",
    "    max_sum = current_sum = arr[0]\n",
    "    start_value = end_value =arr[0]\n",
    "    \n",
    "    \n",
    "    for num in arr[1:]:\n",
    "        \n",
    "        '''\n",
    "        finding the max value between the current value, or the current sum + current value. It is this line\n",
    "        that resets the start of the count\n",
    "        '''\n",
    "        \n",
    "        current_sum = max(current_sum+num,num)\n",
    "        \n",
    "        if num == max(current_sum+num,num):\n",
    "            start_value = num\n",
    "        \n",
    "        #reassigns max sum to the current sum or itself depending on the max\n",
    "        max_sum = max(current_sum,max_sum)\n",
    "            \n",
    "            \n",
    "        if current_sum == max(current_sum,max_sum):    \n",
    "            end_value = num\n",
    "    \n",
    "    return max_sum #, start_value, end_value\n",
    "        "
   ]
  },
  {
   "cell_type": "code",
   "execution_count": 277,
   "metadata": {},
   "outputs": [
    {
     "name": "stdout",
     "output_type": "stream",
     "text": [
      "ALL TEST CASES PASSED\n"
     ]
    }
   ],
   "source": [
    "from nose.tools import assert_equal\n",
    "\n",
    "class LargeContTest(object):\n",
    "    def test(self,sol):\n",
    "        assert_equal(sol([1,2,-1,3,4,-1]),9)\n",
    "        assert_equal(sol([1,2,-1,3,4,10,10,-10,-1]),29)\n",
    "        assert_equal(sol([-1,1,1,2,-20,10,5]),15)\n",
    "        print('ALL TEST CASES PASSED')\n",
    "        \n",
    "#Run Test\n",
    "t = LargeContTest()\n",
    "#t.test(large_cont_sum)\n",
    "t.test(large_cont_sum2)"
   ]
  },
  {
   "cell_type": "markdown",
   "metadata": {},
   "source": [
    "# Sentense Removal #\n",
    "\n",
    "Flip the order of words in the sentence. Also remove all the white space at the head and trailing edge of the new string\n",
    "\n",
    "rev_word - split the words in the sentence based on the spaces, and then removed the remaining spaces and blanks. I then assigned a new variable called new_list that added all the elements backwards\n",
    "\n",
    "rev_word1 - takes advantage of .join. does not demonstrate the method of array manipulation"
   ]
  },
  {
   "cell_type": "code",
   "execution_count": 51,
   "metadata": {},
   "outputs": [],
   "source": [
    "def rev_word(arg):\n",
    "\n",
    "    split_arg = arg.split(' ')\n",
    "\n",
    "    listed = [w for w in split_arg if w not in ('',' ')]\n",
    "    \n",
    "    new_list = listed[-1]\n",
    "\n",
    "    for i in range(len(listed)-2,-1,-1):\n",
    "        \n",
    "        new_list += \" \" + listed[i]  \n",
    "\n",
    "    return new_list"
   ]
  },
  {
   "cell_type": "code",
   "execution_count": 44,
   "metadata": {},
   "outputs": [],
   "source": [
    "def rev_word2(arg):\n",
    "    \n",
    "    return ' '.join(arg.split()[::-1])"
   ]
  },
  {
   "cell_type": "code",
   "execution_count": 49,
   "metadata": {},
   "outputs": [],
   "source": [
    "def rev_word3(arg):\n",
    "    \n",
    "    words = []\n",
    "    length = len(arg)\n",
    "    spaces = [' ']\n",
    "    \n",
    "    i = 0\n",
    "    \n",
    "    while i < length:\n",
    "        \n",
    "        if arg[i] not in spaces:\n",
    "            word_start = i\n",
    "            \n",
    "            while i<length and arg[i] not in spaces:\n",
    "                \n",
    "                i += 1\n",
    "            \n",
    "            words.append(arg[word_start:i])\n",
    "            \n",
    "        i += 1\n",
    "        \n",
    "    return ' '.join(words[::-1])"
   ]
  },
  {
   "cell_type": "code",
   "execution_count": 52,
   "metadata": {},
   "outputs": [
    {
     "name": "stdout",
     "output_type": "stream",
     "text": [
      "ALL TEST CASES PASSED\n",
      "ALL TEST CASES PASSED\n",
      "ALL TEST CASES PASSED\n"
     ]
    }
   ],
   "source": [
    "from nose.tools import assert_equal\n",
    "\n",
    "class ReversalTest(object):\n",
    "    \n",
    "    def test(self,sol):\n",
    "        assert_equal(sol('    space before'),'before space')\n",
    "        assert_equal(sol('space after     '),'after space')\n",
    "        assert_equal(sol('   Hello John    how are you   '),'you are how John Hello')\n",
    "        assert_equal(sol('1'),'1')\n",
    "        print(\"ALL TEST CASES PASSED\")\n",
    "        \n",
    "# Run and test\n",
    "t = ReversalTest()\n",
    "t.test(rev_word)\n",
    "t.test(rev_word2)\n",
    "t.test(rev_word3)"
   ]
  },
  {
   "cell_type": "markdown",
   "metadata": {},
   "source": [
    "# String Compression #\n",
    "\n",
    "given a string of repeating alphabets, create a case sensitive tally of how many there are\n",
    "\n",
    "collections - O(n) creates a dictionary, then converts it to a string\n",
    "\n",
    "collections2 - O(n). this is known as the run length compression algorith"
   ]
  },
  {
   "cell_type": "code",
   "execution_count": 104,
   "metadata": {},
   "outputs": [],
   "source": [
    "import collections\n",
    "\n",
    "def compress(arg):\n",
    "    \n",
    "    d = collections.defaultdict(int)\n",
    "    \n",
    "    for character in arg:\n",
    "        if d[character] == 0:\n",
    "            d[character] = 1\n",
    "        else:\n",
    "            d[character] += 1\n",
    "    \n",
    "    d_str = ''\n",
    "            \n",
    "    for key in d:\n",
    "        d_str += key + str(d[key])\n",
    "    \n",
    "    return d_str"
   ]
  },
  {
   "cell_type": "code",
   "execution_count": 132,
   "metadata": {},
   "outputs": [],
   "source": [
    "def compress2(arg):\n",
    "    \n",
    "    r = ''\n",
    "    l = len(arg)\n",
    "    \n",
    "    #edge case for a blank string\n",
    "    if l == 0:\n",
    "        return ''\n",
    "    \n",
    "    #edge case for a string of length 1\n",
    "    if l == 1:\n",
    "        return arg+\"1\"\n",
    "\n",
    "    last = arg[0]\n",
    "    count = 1\n",
    "    i = 1\n",
    "    \n",
    "    while i < l:\n",
    "        if arg[i] == arg[i-1]:\n",
    "            count += 1\n",
    "        \n",
    "        else:\n",
    "            r += arg[i-1] + str(count)\n",
    "            count = 1\n",
    "            \n",
    "        i += 1\n",
    "    \n",
    "    r += arg[i-1] + str(count)\n",
    "    \n",
    "    return r"
   ]
  },
  {
   "cell_type": "code",
   "execution_count": 133,
   "metadata": {},
   "outputs": [
    {
     "name": "stdout",
     "output_type": "stream",
     "text": [
      "ALL TEST CASES PASSED\n",
      "ALL TEST CASES PASSED\n"
     ]
    }
   ],
   "source": [
    "from nose.tools import assert_equal\n",
    "\n",
    "class TestCompress(object):\n",
    "\n",
    "    def test(self, sol):\n",
    "        assert_equal(sol(''), '')\n",
    "        assert_equal(sol('AABBCC'), 'A2B2C2')\n",
    "        assert_equal(sol('AAABCCDDDDD'), 'A3B1C2D5')\n",
    "        print ('ALL TEST CASES PASSED')\n",
    "\n",
    "# Run Tests\n",
    "t = TestCompress()\n",
    "t.test(compress)\n",
    "t.test(compress2)"
   ]
  },
  {
   "cell_type": "markdown",
   "metadata": {},
   "source": [
    "# Unique Characters In A String #\n",
    "\n",
    "pass a True if all characters in a string are unique\n",
    "\n",
    "uni_char - using dictionary\n",
    "uni_char2 - using set length vs arr length"
   ]
  },
  {
   "cell_type": "code",
   "execution_count": 138,
   "metadata": {},
   "outputs": [],
   "source": [
    "import collections\n",
    "\n",
    "def uni_char(arg):\n",
    "    \n",
    "    d = collections.defaultdict(int)\n",
    "    \n",
    "    for char in arg:\n",
    "        \n",
    "        if d[char] == 0:\n",
    "            d[char] += 1\n",
    "            \n",
    "        else:\n",
    "            return False\n",
    "        \n",
    "    return True"
   ]
  },
  {
   "cell_type": "code",
   "execution_count": 149,
   "metadata": {},
   "outputs": [],
   "source": [
    "def uni_char2(arg):\n",
    "    return len(set(arg))==len(arg)"
   ]
  },
  {
   "cell_type": "code",
   "execution_count": 150,
   "metadata": {},
   "outputs": [
    {
     "name": "stdout",
     "output_type": "stream",
     "text": [
      "ALL TEST CASES PASSED\n",
      "ALL TEST CASES PASSED\n"
     ]
    }
   ],
   "source": [
    "from nose.tools import assert_equal\n",
    "\n",
    "\n",
    "class TestUnique(object):\n",
    "\n",
    "    def test(self, sol):\n",
    "        assert_equal(sol(''), True)\n",
    "        assert_equal(sol('goo'), False)\n",
    "        assert_equal(sol('abcdefg'), True)\n",
    "        print('ALL TEST CASES PASSED')\n",
    "        \n",
    "# Run Tests\n",
    "t = TestUnique()\n",
    "t.test(uni_char)\n",
    "t.test(uni_char2)"
   ]
  },
  {
   "cell_type": "code",
   "execution_count": null,
   "metadata": {},
   "outputs": [],
   "source": []
  }
 ],
 "metadata": {
  "kernelspec": {
   "display_name": "Python 3",
   "language": "python",
   "name": "python3"
  },
  "language_info": {
   "codemirror_mode": {
    "name": "ipython",
    "version": 3
   },
   "file_extension": ".py",
   "mimetype": "text/x-python",
   "name": "python",
   "nbconvert_exporter": "python",
   "pygments_lexer": "ipython3",
   "version": "3.6.5"
  }
 },
 "nbformat": 4,
 "nbformat_minor": 2
}
