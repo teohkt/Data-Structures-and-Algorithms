{
 "cells": [
  {
   "cell_type": "markdown",
   "metadata": {},
   "source": [
    "# Recursion #\n",
    "\n",
    "When the function reappears within itself, it is a recursive function. Every recursive function has a base case so that it has an end."
   ]
  },
  {
   "cell_type": "code",
   "execution_count": null,
   "metadata": {},
   "outputs": [],
   "source": [
    "#Factorial: 5! = 5*4*3*2*1\n",
    "\n",
    "def rec_fact(n): #factorial\n",
    "    \n",
    "    #base case\n",
    "    if n==0:\n",
    "        return 1\n",
    "    \n",
    "    else:\n",
    "        return n * fact(n-1)"
   ]
  },
  {
   "cell_type": "code",
   "execution_count": null,
   "metadata": {
    "scrolled": true
   },
   "outputs": [],
   "source": [
    "rec_fact(5)"
   ]
  },
  {
   "cell_type": "markdown",
   "metadata": {},
   "source": [
    "###  Given an iteger, create a function which returns the sum of all the individual digits in that integer. For example: if n = 4321, return 4+3+2+1\n",
    "\n",
    "rec_sum_func - not really a recursive function\n",
    "\n",
    "rec_sum_fun2 - recursive function using % and /\n",
    "\n",
    "rec_sum_fun3 - going through the index of the string. This requires converting the integer to a string and back, which takes longer"
   ]
  },
  {
   "cell_type": "code",
   "execution_count": null,
   "metadata": {},
   "outputs": [],
   "source": [
    "def rec_sum_func(n): \n",
    "    \n",
    "    rec_sum_value = 0\n",
    "    \n",
    "    list_numb = [int(d) for d in str(n)]\n",
    "    \n",
    "    for i in list_numb:\n",
    "        rec_sum_value += i\n",
    "        \n",
    "    return rec_sum_value"
   ]
  },
  {
   "cell_type": "code",
   "execution_count": null,
   "metadata": {},
   "outputs": [],
   "source": [
    "def rec_sum_func2(n):\n",
    "    \n",
    "    if n == 0:\n",
    "        return 0\n",
    "    else:\n",
    "\n",
    "        return int(n%10) + rec_sum_func2(n/10)"
   ]
  },
  {
   "cell_type": "code",
   "execution_count": null,
   "metadata": {},
   "outputs": [],
   "source": [
    "def rec_sum_func3(n):\n",
    "    n = str(n)\n",
    "    if len(str(n))==1:\n",
    "        return int(n[0])\n",
    "    \n",
    "    else:\n",
    "        return int(n[0]) + int(rec_sum_func3(n[1:]))"
   ]
  },
  {
   "cell_type": "code",
   "execution_count": null,
   "metadata": {},
   "outputs": [],
   "source": [
    "import time\n",
    "class TestCycleCheck(object):   \n",
    "\n",
    "    def test(self,sol):\n",
    "        assert_equal(sol(4321),10)\n",
    "        assert_equal(sol(563),14)\n",
    "        \n",
    "        #print(\"ALL TEST CASES PASSED\")\n",
    "        \n",
    "# Run Tests\n",
    "t = TestCycleCheck()\n",
    "\n",
    "%timeit rec_sum_func\n",
    "%timeit rec_sum_func2\n",
    "%timeit rec_sum_func3"
   ]
  },
  {
   "cell_type": "markdown",
   "metadata": {},
   "source": [
    "### Create a function called word_split() which takes in a string phase and a set list_of_words. The function will then determine if it is possible to split the string in a way in which words can be made from the list of words. You can assume the phrase will only contain words found in the dictionary if iti is completely splittable\n"
   ]
  },
  {
   "cell_type": "code",
   "execution_count": null,
   "metadata": {},
   "outputs": [],
   "source": [
    "def word_split(string, list_of_words):\n",
    "    \n",
    "    words_found = []\n",
    "    \n",
    "    for i in list_of_words:\n",
    "        if i in string:\n",
    "            words_found.append(i)\n",
    "            \n",
    "    return words_found\n",
    "    \n",
    "    "
   ]
  },
  {
   "cell_type": "code",
   "execution_count": null,
   "metadata": {},
   "outputs": [],
   "source": [
    "def word_split2(phrase, list_of_words, output = None):\n",
    "    \n",
    "    if output is None:\n",
    "        output = []\n",
    "        \n",
    "    for word in list_of_words:\n",
    "        \n",
    "        if phrase.startswith(word):\n",
    "            output.append(word)\n",
    "            \n",
    "            return word_split(phrase[len(word):],list_of_words,output)\n",
    "        \n",
    "    return output"
   ]
  },
  {
   "cell_type": "code",
   "execution_count": null,
   "metadata": {},
   "outputs": [],
   "source": [
    "word_split('themanran',['clown','ran','man'])"
   ]
  },
  {
   "cell_type": "code",
   "execution_count": null,
   "metadata": {},
   "outputs": [],
   "source": [
    "import time\n",
    "class TestCycleCheck(object):   \n",
    "\n",
    "    def test(self,sol):\n",
    "        assert_equal(sol('themanran',['the','ran','man']),['the', 'ran', 'man'])\n",
    "        assert_equal(sol('ilovedogsJohn',['i','am','a','dogs','lover','love','John'],['i', 'dogs', 'love', 'John']),14)\n",
    "        assert_equal(sol('themanran',['ran', 'man'])\n",
    "        #print(\"ALL TEST CASES PASSED\")\n",
    "        \n",
    "# Run Tests\n",
    "t = TestCycleCheck()\n",
    "\n",
    "%timeit word_split\n",
    "%timeit word_split2\n"
   ]
  },
  {
   "cell_type": "markdown",
   "metadata": {},
   "source": [
    "# Permutations #\n",
    "\n",
    "Find all the possible combinations of letters inputted as a string"
   ]
  },
  {
   "cell_type": "code",
   "execution_count": null,
   "metadata": {},
   "outputs": [],
   "source": [
    "def permute(s):\n",
    "    \n",
    "    out = []\n",
    "    \n",
    "    if len(s)==1:\n",
    "        out = [s]\n",
    "    \n",
    "    else:\n",
    "        for i, letter in enumerate(s):\n",
    "            for perm in permute(s[:i] + s[i+1:]):\n",
    "                out += [letter + perm]\n",
    "                \n",
    "    return out"
   ]
  },
  {
   "cell_type": "code",
   "execution_count": null,
   "metadata": {
    "scrolled": true
   },
   "outputs": [],
   "source": [
    "from nose.tools import assert_equal\n",
    "\n",
    "class TestPerm(object):\n",
    "    \n",
    "    def test(self,solution):\n",
    "        \n",
    "        assert_equal(sorted(solution('abc')),sorted(['abc', 'acb', 'bac', 'bca', 'cab', 'cba']))\n",
    "        assert_equal(sorted(solution('dog')),sorted(['dog', 'dgo', 'odg', 'ogd', 'gdo', 'god']) )\n",
    "        \n",
    "        print('All test cases passed.')\n",
    "        \n",
    "\n",
    "\n",
    "# Run Tests\n",
    "t = TestPerm()\n",
    "t.test(permute)\n"
   ]
  },
  {
   "cell_type": "markdown",
   "metadata": {},
   "source": [
    "# Fibonacci Sequence #\n",
    "\n",
    "The next number is the sum of the 2 numbers before it, with the first two numbers being 0 and 1. It is IMPORTANT to note that fib(0) = 0 and fib(1) = 1. This is he classical definition\n",
    "\n",
    "Used the formula n = (n-1) + (n-2)\n",
    "\n",
    "fib_rec - recursion\n",
    "\n",
    "fib_dyn - dynamic programming. Uses cacheto store the results (memoization)\n",
    "\n",
    "fib_iter - iterative by appending to a list\n",
    "\n",
    "fib_iter2 - iterative by tuple unpacking"
   ]
  },
  {
   "cell_type": "code",
   "execution_count": null,
   "metadata": {},
   "outputs": [],
   "source": [
    "def fib_rec(n):\n",
    "    \n",
    "    #Base Case\n",
    "    if n <= 2:\n",
    "        return int((n+1)/2)\n",
    "    else:\n",
    "        return fib_rec(n-1) + fib_rec(n-2)\n",
    "    pass"
   ]
  },
  {
   "cell_type": "code",
   "execution_count": null,
   "metadata": {},
   "outputs": [],
   "source": [
    "def fib_rec(n):\n",
    "    \n",
    "    #Base Case\n",
    "    if n == 1:\n",
    "        return n\n",
    "    else:\n",
    "        return fib_rec(n-1) + fib_rec(n-2)\n",
    "    pass"
   ]
  },
  {
   "cell_type": "code",
   "execution_count": null,
   "metadata": {},
   "outputs": [],
   "source": [
    "#Setting up cache size The +1 is needed because the fib sequence is \n",
    "#offset by 1. See the above notes.\n",
    "cache_size=23\n",
    "cache = [None]*(cache_size+1)\n",
    "\n",
    "def fib_dyn(n):\n",
    "    \n",
    "    #Retrieves info if in 'cache' to save time\n",
    "    if cache[n] is not None:\n",
    "        return cache[n]\n",
    "    \n",
    "    #Completes intial base case. Consequent ones will come from cache\n",
    "    if n <= 2:\n",
    "        cache[n] = int((n+1)/2)\n",
    "        return cache[n]\n",
    "    \n",
    "    #Solves the other numbers in the sequence not solved yet\n",
    "    else:\n",
    "        cache[n] = fib_dyn(n-1) + fib_dyn(n-2)\n",
    "    return cache[n]"
   ]
  },
  {
   "cell_type": "code",
   "execution_count": null,
   "metadata": {},
   "outputs": [],
   "source": [
    "def fib_iter(n):\n",
    "    \n",
    "    seq = [0,1]\n",
    "    \n",
    "    for i in range(2,n+1):\n",
    "        \n",
    "        summed = seq[i-1] + seq[i-2]\n",
    "        seq.append(summed)\n",
    "        \n",
    "    return seq[n]"
   ]
  },
  {
   "cell_type": "code",
   "execution_count": null,
   "metadata": {},
   "outputs": [],
   "source": [
    "def fib_iter2(n):\n",
    "    \n",
    "    #Staring values\n",
    "    a,b = 0,1\n",
    "    \n",
    "    #Find the next value by updating the previous value\n",
    "    for i in range(n):        \n",
    "        a, b = b, a + b\n",
    "        \n",
    "    return a"
   ]
  },
  {
   "cell_type": "code",
   "execution_count": null,
   "metadata": {},
   "outputs": [],
   "source": [
    "import time\n",
    "from nose.tools import assert_equal\n",
    "\n",
    "class TestFib(object):\n",
    "    \n",
    "    def test(self,solution):\n",
    "        assert_equal(solution(10),55)\n",
    "        assert_equal(solution(1),1)\n",
    "        assert_equal(solution(23),28657)\n",
    "        #print ('Passed all tests.')\n",
    "\n",
    "t = TestFib()\n",
    "\n",
    "%timeit t.test(fib_rec)\n",
    "%timeit t.test(fib_dyn)\n",
    "%timeit t.test(fib_iter)\n",
    "%timeit t.test(fib_iter2)"
   ]
  },
  {
   "cell_type": "markdown",
   "metadata": {},
   "source": [
    "# Coin Change Problem #\n",
    "\n",
    "find the minimum number of coins needed for the correct change"
   ]
  },
  {
   "cell_type": "code",
   "execution_count": null,
   "metadata": {},
   "outputs": [],
   "source": [
    "'''\n",
    "This recursive method is VERY slow because it recalculates each possibility. \n",
    "Not an optimal example\n",
    "'''\n",
    "\n",
    "def rec_coin(target, coins):\n",
    "    \n",
    "    #Default value for minimum number of coins\n",
    "    min_coins = target\n",
    "    \n",
    "    #Base case to see if target is in coins\n",
    "    if target in coins:\n",
    "        \n",
    "        return 1\n",
    "    \n",
    "    else:\n",
    "        #For every coin value that is less than or equal to my target value\n",
    "        for i in [c for c in coins if c<= target]:\n",
    "            \n",
    "            # coin count\n",
    "            num_coins = 1 + rec_coin(target-i,coins)\n",
    "\n",
    "            #reset the minimum if the new num_coins is less than the minimum number of coins\n",
    "            if num_coins < min_coins:\n",
    "                \n",
    "                min_coins = num_coins\n",
    "    \n",
    "    return min_coins"
   ]
  },
  {
   "cell_type": "code",
   "execution_count": null,
   "metadata": {},
   "outputs": [],
   "source": [
    "rec_coin(15,[1,5,10])"
   ]
  },
  {
   "cell_type": "code",
   "execution_count": null,
   "metadata": {},
   "outputs": [],
   "source": [
    "'''\n",
    "Recursive method, stores previously solved solutions to save time. The for the function is as follows:\n",
    "\n",
    "target = 74\n",
    "coins = [1,5,10,25]\n",
    "known_results = [0]*(target+1)\n",
    "\n",
    "rec_coin_dynam(target,coins,known_results)\n",
    "'''\n",
    "\n",
    "def rec_coin_dynam(target, coins, known_results):\n",
    "    \n",
    "    #Default output to target\n",
    "    min_coins = target\n",
    "    \n",
    "    #Base Case\n",
    "    if target in coins:\n",
    "        known_results[target] = 1\n",
    "        return 1\n",
    "    \n",
    "    #Return a known result if it is not 0\n",
    "    elif known_results[target] >0:\n",
    "        return known_results[target]\n",
    "    \n",
    "    else:\n",
    "        \n",
    "        for j in [c for c in coins if c <= target]:           \n",
    "            num_coins = 1 + rec_coin_dynam(target-j, coins, known_results)\n",
    "            \n",
    "            #Adjusts the minimum number of coins\n",
    "            if num_coins < min_coins:        \n",
    "                known_results[target] = num_coins\n",
    "                \n",
    "    return min_coins"
   ]
  },
  {
   "cell_type": "code",
   "execution_count": null,
   "metadata": {},
   "outputs": [],
   "source": [
    "target = 74\n",
    "coins = [1,5,10,25]\n",
    "known_results = [0]*(target+1)\n",
    "\n",
    "rec_coin_dynam(target,coins,known_results)"
   ]
  },
  {
   "cell_type": "code",
   "execution_count": null,
   "metadata": {},
   "outputs": [],
   "source": [
    "'''\n",
    "Not a Recursive Solution!\n",
    "This allows an output that will indicate the fewest coins needed for a coin amount, as well as the recommended coins\n",
    "to distribute. This works from the lowest value up to the target, meaning that we do not have to reference an already\n",
    "discovered value\n",
    "\n",
    "Everything is stored in lists so it can be called later without re-running the functions!\n",
    "'''\n",
    "\n",
    "def change_sort(target, coinPurse, coinsUsed, coinCount):\n",
    "    for cents in range(target + 1):\n",
    "        coins = cents\n",
    "        cointype = 1\n",
    "        for j in [c for c in coinPurse if c<= cents]:\n",
    "            if coinCount[cents-j]+1 < coins:\n",
    "                coins = coinCount[cents-j]+1\n",
    "                cointype = j\n",
    "        coinCount[cents] = coins\n",
    "        coinsUsed[cents] = cointype\n",
    "    \n",
    "def change_rec(coinsUsed, target,coinRec):\n",
    "    \n",
    "    remainder = target\n",
    "\n",
    "    while remainder > 0:\n",
    "        coinRec.append(coinsUsed[remainder])\n",
    "        remainder = remainder - coinsUsed[remainder]"
   ]
  },
  {
   "cell_type": "code",
   "execution_count": null,
   "metadata": {},
   "outputs": [],
   "source": [
    "target = 27\n",
    "coinPurse = [1,5,7,10]\n",
    "coinUsed = [0]*(target+1)\n",
    "coinCount = [0]*(target+1)\n",
    "coinRec = []\n",
    "change_sort(target, coinPurse, coinsUsed, coinCount)\n",
    "change_rec(coinsUsed, target,coinRec)\n",
    "\n",
    "print('No of Coins Used: ',coinCount[target])\n",
    "print('Recommended use: ',coinRec)"
   ]
  },
  {
   "cell_type": "code",
   "execution_count": null,
   "metadata": {},
   "outputs": [],
   "source": []
  }
 ],
 "metadata": {
  "kernelspec": {
   "display_name": "Python 3",
   "language": "python",
   "name": "python3"
  },
  "language_info": {
   "codemirror_mode": {
    "name": "ipython",
    "version": 3
   },
   "file_extension": ".py",
   "mimetype": "text/x-python",
   "name": "python",
   "nbconvert_exporter": "python",
   "pygments_lexer": "ipython3",
   "version": "3.6.5"
  }
 },
 "nbformat": 4,
 "nbformat_minor": 2
}
